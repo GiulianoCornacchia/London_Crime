{
 "cells": [
  {
   "cell_type": "markdown",
   "metadata": {},
   "source": [
    "<a id='top'></a>\n",
    "\n",
    "# London Crime - Big Data Analytics | a.y. 2018/19\n",
    "#### Amendola M. Cornacchia G. Salinas M.\n",
    "<hr>\n",
    "\n",
    "\n",
    "## Table of Contents\n",
    "1. [Parameters tuning](#tuning)\n",
    "2. [Range Prediction](#range)\n",
    "    1. [Multiclassification](#multiclass) \n",
    "    2. [Multiclassification Results](#mresult)\n",
    "3. [LSOA prediction](#lsoa) \n",
    "    1. [Model Selection and interpretaion](#random)\n",
    "    2. [Assumption Evaluation](#eval)\n",
    "        1. [Null Model](#null)\n",
    "    3. [LSTM](#lstm)\n",
    "4. [Conclusions](#concl)\n",
    "\n",
    "*All the additional data that has been used can be found in the ``data`` folder provided with this notebook*"
   ]
  },
  {
   "cell_type": "markdown",
   "metadata": {},
   "source": [
    "The goal of our analytic proposal is to output a parametric model capable of predicting the number of crimes in an LSOA or borough. We choose a time-series approach and before proceeding we need some data preparation steps.\n",
    "\n",
    "We have proposed an autoregression model (ARIMA) that predicts the number of crimes in a borough as our analytical solution and analysed its performances compared to dummy baselines. ARIMA outperformed dummy regressors but there was little space for improvements with such models beacause of the high impredictability of the crime phenomenon. \n",
    "\n",
    "After discussing the further directions of the project with the professors we decided to **change the granularity** of our analysis:\n",
    "\n",
    " - *prediction granularity*:  instead of predicting the number of crimes we will consider **ranges** of values at **borough** level thus transforming the regression problem into a classification one.\n",
    " \n",
    " - *learning/data granularity*: hoping that locality will increase the stability of the time series, we will predict the number of crimes at **LSOA** level.\n",
    " \n",
    "In this way instead of having a single parametric model for both LSOA and borough we'll have two different tasks.\n",
    "We decided to solve two separate problems at different granularities because boroughs' time series have values that vary in wider range than the LSOA's ones, resulting in more unstable series. \n",
    " \n",
    "For the proposed solution we used a dataset in which there is a record for each LSOA and couple year-month. In each record we have one numerical attribute for each major category of felony that contains the sum of the values of that kind of crime in the specific month and LSOA. \n",
    "\n",
    "Furthermore each model/algorithm has been evaluated with a Time-Series Cross-Validation approach in which:\n",
    " 1. we split the time series in folds of equal lenght\n",
    " 2. in the $i^{th}$ itearation the model is trained up to the $i-1^{th}$ fold and tested on the $i^{th}$. In this way we never use future observation to predict past ones. The first fold is used only for training and we start testing from the second one;\n",
    " 3. the results of each iteration are aggregated and for each cross validation we collect these aggregated scoers."
   ]
  },
  {
   "cell_type": "code",
   "execution_count": 41,
   "metadata": {},
   "outputs": [],
   "source": [
    "import util as u\n",
    "import pandas as pd\n",
    "import numpy as np\n",
    "import matplotlib.pyplot as plt\n",
    "import warnings\n",
    "warnings.filterwarnings('ignore')"
   ]
  },
  {
   "cell_type": "markdown",
   "metadata": {},
   "source": [
    "<a id='tuning'></a> \n",
    "## 1. Parameters Tuning [to top](#top)\n",
    "\n",
    "Each model has been evaluated using time series cross validation on normalized data. We collect scores for each combination of algorithms and parameters. The code below shows and example of random forest parameter tuning execution."
   ]
  },
  {
   "cell_type": "code",
   "execution_count": null,
   "metadata": {
    "scrolled": true
   },
   "outputs": [],
   "source": [
    "\"\"\"\n",
    "Takes A LOT of time (3/4h)\n",
    "\n",
    "%%time\n",
    "\n",
    "#scores = []\n",
    "\n",
    "parms = {\n",
    "    'n_est':range(1, 27, 2),\n",
    "    'max_depth':[None, 4, 6, 10, 20],\n",
    "    'min_samples_split':[x / 100.0 for x in range(5, 45, 5)],\n",
    "    'previous_obs':range(2, 13)\n",
    "}\n",
    "\n",
    "ranges = {\n",
    "    \"train\":[\"2011-01-01\", \"2016-12-01\"],\n",
    "    \"test\": [\"2017-01-01\", \"2017-02-02\"]\n",
    "}\n",
    "\n",
    "ts = u.get_lsoa_ts(series, u.critic_lsoa[0])['value']\n",
    "ts_norm, scaler = normalize_data(ts)\n",
    "ts_norm = pd.Series(index=ts.index, data=ts_norm)\n",
    "to_predict = 1\n",
    "alg_str = 'random_forest'\n",
    "folds = 6\n",
    "exc = 0\n",
    "for n_est in parms['n_est']:\n",
    "    for depth in parms['max_depth']:\n",
    "        for prev_ob in parms['previous_obs']:\n",
    "            prev_obs = prev_ob\n",
    "            d = u.train_test(ts_norm, ranges, prev_obs, to_predict)\n",
    "            if depth == None:\n",
    "                for mss in parms['min_samples_split']:\n",
    "                    param = {\n",
    "                        'bootstrap':True, 'n_jobs':-1, \n",
    "                        'n_estimators': n_est, 'max_depth': depth, 'min_samples_split':mss\n",
    "                    }\n",
    "                    try:\n",
    "                        ev_mean, ev_std, mae_mean, mae_std, r2_mean, r2_std ,corr_mean, corr_std, param = \n",
    "                        u.performTimeSeriesCV(np.array(d['train']['x']), np.array(d['train']['y']), folds, alg_str, param, print_all = False)\n",
    "\n",
    "                        scores.append([alg_str, prev_obs, ev_mean, ev_std, mae_mean, mae_std, r2_mean, r2_std ,corr_mean, corr_std, param])\n",
    "                    except:\n",
    "                        exc += 1\n",
    "                        continue;  \n",
    "            else:\n",
    "                param = {\n",
    "                    'bootstrap':True, 'n_jobs':-1, \n",
    "                    'n_estimators': n_est, 'max_depth': depth\n",
    "                }\n",
    "                try:\n",
    "                    ev_mean, ev_std, mae_mean, mae_std, r2_mean, r2_std ,corr_mean, corr_std, param = u.performTimeSeriesCV(np.array(d['train']['x']), np.array(d['train']['y']), folds, alg_str, param, print_all = False)\n",
    "                    u.scores.append([alg_str, prev_obs, ev_mean, ev_std, mae_mean, mae_std, r2_mean, r2_std ,corr_mean, corr_std, param])\n",
    "                except:\n",
    "                    exc += 1\n",
    "                    continue;\n",
    "\n",
    "print 'Final corr Scores'\n",
    "u.print_sorted_scores(scores, 'corr', topk=3);\n",
    "\n",
    "\"\"\""
   ]
  },
  {
   "cell_type": "markdown",
   "metadata": {},
   "source": [
    "Among the different parameters to tune there is the one that controls the learning granularity: ``prev_obs``. Regressors and classifiers need data split into sample and targets. Each sample can have a set of attributes. In our case we have a variable number of attributes, namely the number of crimes in the previous months, and just one output variable, the next month's value. The table below shows samples and targets for a toy-time-series $[1, 2, 3, 4, 5, 6]$ with ``prev_obs`` = 3: \n",
    "\n",
    "Sample (1x``prev_obs``) | Target (1x1)\n",
    "------------ | -------------\n",
    "1, 2, 3  |  4 \n",
    "2, 3, 4  |  5                          \n",
    "3, 4, 5  |  6                "
   ]
  },
  {
   "cell_type": "markdown",
   "metadata": {},
   "source": [
    "<a id='range'></a>\n",
    "## 2. Range Prediction [to top](#top) \n",
    "We decide to change approach switching from a value prediction to a range prediction, basically from regression to a multi-classification problem. \n",
    "\n",
    "First of all we had to transform the values in ranges/classes through a discretization.\n",
    "We decided to have five classes of risk, from Class 1 (safe) to Class 5 (dangerous) so we performed two techniques of binning: natural and equal frequency binning.\n",
    "\n",
    "In this section we will show the results of range prediction on **Westminster**, that is the most dangerous and unpredictable borough we've seen so far."
   ]
  },
  {
   "cell_type": "code",
   "execution_count": 2,
   "metadata": {},
   "outputs": [],
   "source": [
    "series = pd.read_csv('data/lc_time_series.csv')\n",
    "s = series.drop(columns=[\"lsoa_code\",\"Borough\"], axis=0)\n",
    "s.month = pd.to_datetime(s.month)\n",
    "s = s.groupby(\"month\", as_index=True).sum()"
   ]
  },
  {
   "cell_type": "code",
   "execution_count": 3,
   "metadata": {
    "scrolled": false
   },
   "outputs": [
    {
     "name": "stderr",
     "output_type": "stream",
     "text": [
      "C:\\Users\\madda\\Anaconda3\\lib\\site-packages\\pandas\\core\\generic.py:4401: SettingWithCopyWarning: \n",
      "A value is trying to be set on a copy of a slice from a DataFrame.\n",
      "Try using .loc[row_indexer,col_indexer] = value instead\n",
      "\n",
      "See the caveats in the documentation: http://pandas.pydata.org/pandas-docs/stable/indexing.html#indexing-view-versus-copy\n",
      "  self[name] = value\n"
     ]
    },
    {
     "data": {
      "text/plain": [
       "<matplotlib.axes._subplots.AxesSubplot at 0x18e8f7f6ac8>"
      ]
     },
     "execution_count": 3,
     "metadata": {},
     "output_type": "execute_result"
    },
    {
     "data": {
      "image/png": "[encoded data removed]",
      "text/plain": [
       "<Figure size 432x288 with 1 Axes>"
      ]
     },
     "metadata": {},
     "output_type": "display_data"
    }
   ],
   "source": [
    "s_bor = u.get_bor_ts2(series, 'Westminster')['value']\n",
    "s_bor.plot()"
   ]
  },
  {
   "cell_type": "code",
   "execution_count": 5,
   "metadata": {},
   "outputs": [
    {
     "name": "stderr",
     "output_type": "stream",
     "text": [
      "C:\\Users\\madda\\Anaconda3\\lib\\site-packages\\pandas\\core\\generic.py:4401: SettingWithCopyWarning: \n",
      "A value is trying to be set on a copy of a slice from a DataFrame.\n",
      "Try using .loc[row_indexer,col_indexer] = value instead\n",
      "\n",
      "See the caveats in the documentation: http://pandas.pydata.org/pandas-docs/stable/indexing.html#indexing-view-versus-copy\n",
      "  self[name] = value\n"
     ]
    }
   ],
   "source": [
    "s_bor = u.get_bor_ts2(series, 'Westminster')\n",
    "df=s_bor"
   ]
  },
  {
   "cell_type": "markdown",
   "metadata": {},
   "source": [
    "#### Natural binning (intervals with the same size)"
   ]
  },
  {
   "cell_type": "code",
   "execution_count": 8,
   "metadata": {},
   "outputs": [
    {
     "name": "stdout",
     "output_type": "stream",
     "text": [
      "Natural binning\n",
      "1 --> 21  (3400.975, 3808.0]\n",
      "2 --> 42  (3808.0, 4213.0]\n",
      "3 --> 27  (4213.0, 4618.0]\n",
      "4 --> 9  (4618.0, 5023.0]\n",
      "5 --> 9  (5023.0, 5428.0]\n",
      "----------------------------------------\n"
     ]
    },
    {
     "data": {
      "image/png": "[encoded data removed]",
      "text/plain": [
       "<Figure size 432x288 with 1 Axes>"
      ]
     },
     "metadata": {},
     "output_type": "display_data"
    }
   ],
   "source": [
    "k=5\n",
    "df['nat_bins'] = pd.cut(df['value'], bins=k, labels=np.arange(1,k+1,1))\n",
    "\n",
    "#Showing the frequency of each bin\n",
    "s_bor[\"nat_bins\"].hist(bins=k)\n",
    "ints = pd.cut(df['value'], bins=k, retbins=True)[1]\n",
    "\n",
    "print (\"Natural binning\")\n",
    "for i in range(1,k+1):\n",
    "    print (str(i) +\" --> \"+ str(len(df[df[\"nat_bins\"]==i])) + \"  (\"+str(ints[i-1])+\", \"+str(ints[i])+\"]\")\n",
    "print (\"----------------------------------------\")"
   ]
  },
  {
   "cell_type": "markdown",
   "metadata": {},
   "source": [
    "#### Equal frequency binning (Intervals with the same frequency)"
   ]
  },
  {
   "cell_type": "code",
   "execution_count": 9,
   "metadata": {},
   "outputs": [
    {
     "name": "stdout",
     "output_type": "stream",
     "text": [
      "Equal freq. binning\n",
      "1 --> 22  (3403.0, 3822.6]\n",
      "2 --> 22  (3822.6, 4029.0]\n",
      "3 --> 21  (4029.0, 4231.2]\n",
      "4 --> 21  (4231.2, 4531.8]\n",
      "5 --> 22  (4531.8, 5428.0]\n",
      "----------------------------------------\n"
     ]
    },
    {
     "data": {
      "image/png": "[encoded data removed]",
      "text/plain": [
       "<Figure size 432x288 with 1 Axes>"
      ]
     },
     "metadata": {},
     "output_type": "display_data"
    }
   ],
   "source": [
    "k=5\n",
    "df['eq_bins'] = pd.qcut(df['value'], q=k, labels=np.arange(1,k+1,1))\n",
    "\n",
    "#Showing the frequency of each bin\n",
    "\n",
    "s_bor[\"eq_bins\"].hist(bins=k, rwidth=0.8)\n",
    "ints2 = pd.qcut(df['value'], q=k, retbins=True)[1]\n",
    "\n",
    "print (\"Equal freq. binning\")\n",
    "for i in range(1,k+1):\n",
    "    print (str(i) +\" --> \"+ str(len(df[df[\"eq_bins\"]==i])) + \"  (\"+str(ints2[i-1])+\", \"+str(ints2[i])+\"]\")\n",
    "print (\"----------------------------------------\")"
   ]
  },
  {
   "cell_type": "code",
   "execution_count": 10,
   "metadata": {},
   "outputs": [
    {
     "data": {
      "text/plain": [
       "<matplotlib.axes._subplots.AxesSubplot at 0x18e906c86a0>"
      ]
     },
     "execution_count": 10,
     "metadata": {},
     "output_type": "execute_result"
    },
    {
     "data": {
      "image/png": "[encoded data removed]",
      "text/plain": [
       "<Figure size 432x288 with 1 Axes>"
      ]
     },
     "metadata": {},
     "output_type": "display_data"
    }
   ],
   "source": [
    "s_bor[\"nat_bins\"].hist(bins=k)\n",
    "s_bor[\"eq_bins\"].hist(bins=k)"
   ]
  },
  {
   "cell_type": "markdown",
   "metadata": {},
   "source": [
    "We preferred to use a balanced solutions, so, for Westminster we obtain five classes of risk as follows:\n",
    "- **CLASS 1**: $\\approx 120.42\\space crimes/day$\n",
    "- **CLASS 2**: $\\approx 130.86\\space crimes/day$\n",
    "- **CLASS 3**: $\\approx 137.67\\space crimes/day$\n",
    "- **CLASS 4**: $\\approx 146.05\\space crimes/day$\n",
    "- **CLASS 5**: $\\approx 166.00\\space crimes/day$"
   ]
  },
  {
   "cell_type": "code",
   "execution_count": 11,
   "metadata": {},
   "outputs": [],
   "source": [
    "#Converting the eq_bins attribute to an integer value\n",
    "bin_name=\"eq_bins\"\n",
    "s_bor[bin_name]=pd.to_numeric(s_bor[bin_name])"
   ]
  },
  {
   "cell_type": "markdown",
   "metadata": {},
   "source": [
    "we show now the transformed time series of Westminster"
   ]
  },
  {
   "cell_type": "code",
   "execution_count": 12,
   "metadata": {},
   "outputs": [
    {
     "data": {
      "text/plain": [
       "<matplotlib.axes._subplots.AxesSubplot at 0x18e906beb00>"
      ]
     },
     "execution_count": 12,
     "metadata": {},
     "output_type": "execute_result"
    },
    {
     "data": {
      "image/png": "[encoded data removed]",
      "text/plain": [
       "<Figure size 432x288 with 1 Axes>"
      ]
     },
     "metadata": {},
     "output_type": "display_data"
    }
   ],
   "source": [
    "d = s_bor[\"eq_bins\"]\n",
    "d.plot()"
   ]
  },
  {
   "cell_type": "markdown",
   "metadata": {},
   "source": [
    "We also comupute two dummy baselines to compare the results. The first dummy classifier outputs the average class, rounded to the closest integer, the second one is a random dummy classifier.\n",
    "\n",
    "The error is given by the MAE that is simply the difference between the predicted and the true class."
   ]
  },
  {
   "cell_type": "code",
   "execution_count": 114,
   "metadata": {},
   "outputs": [],
   "source": [
    "ranges = {\n",
    "    \"train\":[\"2009-01-01\", \"2016-12-01\"],\n",
    "    \"test\": [\"2017-12-01\", \"2018-12-01\"]\n",
    "}\n",
    "\n",
    "ts=d\n",
    "prev_obs = 4\n",
    "to_predict = 1\n",
    "n_folds=5\n",
    "\n",
    "data = u.train_test(ts, ranges, prev_obs, to_predict)"
   ]
  },
  {
   "cell_type": "code",
   "execution_count": 61,
   "metadata": {},
   "outputs": [
    {
     "name": "stdout",
     "output_type": "stream",
     "text": [
      "---------------------------------\n",
      "avg(mae) =  1.551062091503268  std dev =  0.19085979791726504\n"
     ]
    },
    {
     "name": "stderr",
     "output_type": "stream",
     "text": [
      "C:\\Users\\madda\\Anaconda3\\lib\\site-packages\\scipy\\stats\\stats.py:3010: RuntimeWarning: invalid value encountered in double_scalars\n",
      "  r = r_num / r_den\n",
      "C:\\Users\\madda\\Anaconda3\\lib\\site-packages\\scipy\\stats\\stats.py:5256: RuntimeWarning: invalid value encountered in less\n",
      "  x = np.where(x < 1.0, x, 1.0)  # if x > 1 then return 1.0\n"
     ]
    }
   ],
   "source": [
    "u.performTimeSeriesCV2(np.array(data['train']['x']), np.array(data['train']['y']), n_folds, 'dummy_avg', [], print_all = False);"
   ]
  },
  {
   "cell_type": "code",
   "execution_count": 120,
   "metadata": {},
   "outputs": [
    {
     "name": "stdout",
     "output_type": "stream",
     "text": [
      "---------------------------------\n",
      "avg(mae) =  1.8088235294117647  std dev =  0.42899859252396527\n"
     ]
    }
   ],
   "source": [
    "u.performTimeSeriesCV2(np.array(data['train']['x']), np.array(data['train']['y']), n_folds, 'dummy_rand', [], print_all = False);"
   ]
  },
  {
   "cell_type": "markdown",
   "metadata": {},
   "source": [
    "<a id='multiclass'></a>\n",
    "### 2.A Multi-classification [to top](#top) \n",
    "We used both Random Forest and Gradient Boost for our multiclassification task. We used cross-validation both to fix good parameters for both algorithms and to choose the best model between them. "
   ]
  },
  {
   "cell_type": "markdown",
   "metadata": {},
   "source": [
    "#### Random Forest\n",
    "We tried different parameters configuration and the most accurate one for *random forest classifier* is:\n",
    "- **n_estimators**= 16\n",
    "- **bootstrap** = True\n",
    "- **max_depth** = None\n",
    "- **min_samples_leaf** = 5"
   ]
  },
  {
   "cell_type": "code",
   "execution_count": 101,
   "metadata": {},
   "outputs": [],
   "source": [
    "parameters = {'n_estimators': 16, 'bootstrap': False, 'n_jobs': -1, 'max_depth': None, 'min_samples_leaf': 5}"
   ]
  },
  {
   "cell_type": "markdown",
   "metadata": {},
   "source": [
    "#### Cross Validation\n",
    "We can now compared  the  results  of  the  random  forest  model  with  the  dummy  regressors  cross-validated\n",
    "over the data of the borough of Westminster. The comparison metric is metrics the **MAE** (Mean Absolute Error)."
   ]
  },
  {
   "cell_type": "code",
   "execution_count": 112,
   "metadata": {},
   "outputs": [],
   "source": [
    "ranges = {\n",
    "    \"train\":[\"2009-01-01\", \"2016-12-01\"],\n",
    "    \"test\": [\"2017-12-01\", \"2018-12-01\"]\n",
    "}\n",
    "\n",
    "ts=d\n",
    "prev_obs = 2\n",
    "to_predict = 1\n",
    "\n",
    "\n",
    "data = u.train_test(ts, ranges, prev_obs, to_predict)"
   ]
  },
  {
   "cell_type": "code",
   "execution_count": 113,
   "metadata": {
    "scrolled": true
   },
   "outputs": [
    {
     "name": "stdout",
     "output_type": "stream",
     "text": [
      "\n",
      "Splitting the first 2 chunks at 1/2\n",
      "Size of train + test:  (36, 2)\n"
     ]
    },
    {
     "name": "stderr",
     "output_type": "stream",
     "text": [
      "C:\\Users\\madda\\Desktop\\Magistrale\\Secondo Anno\\BigData Analitycs\\Work\\Regression\\util.py:296: DataConversionWarning: A column-vector y was passed when a 1d array was expected. Please change the shape of y to (n_samples,), for example using ravel().\n",
      "  regr_rf.fit(x_trainFolds, y_trainFolds)\n"
     ]
    },
    {
     "name": "stdout",
     "output_type": "stream",
     "text": [
      "MAE on fold 2:  1.588235294117647\n",
      "\n",
      "Splitting the first 3 chunks at 2/3\n",
      "Size of train + test:  (54, 2)\n"
     ]
    },
    {
     "name": "stderr",
     "output_type": "stream",
     "text": [
      "C:\\Users\\madda\\Desktop\\Magistrale\\Secondo Anno\\BigData Analitycs\\Work\\Regression\\util.py:296: DataConversionWarning: A column-vector y was passed when a 1d array was expected. Please change the shape of y to (n_samples,), for example using ravel().\n",
      "  regr_rf.fit(x_trainFolds, y_trainFolds)\n",
      "C:\\Users\\madda\\Anaconda3\\lib\\site-packages\\scipy\\stats\\stats.py:3010: RuntimeWarning: invalid value encountered in double_scalars\n",
      "  r = r_num / r_den\n",
      "C:\\Users\\madda\\Anaconda3\\lib\\site-packages\\scipy\\stats\\stats.py:5256: RuntimeWarning: invalid value encountered in less\n",
      "  x = np.where(x < 1.0, x, 1.0)  # if x > 1 then return 1.0\n",
      "C:\\Users\\madda\\Desktop\\Magistrale\\Secondo Anno\\BigData Analitycs\\Work\\Regression\\util.py:296: DataConversionWarning: A column-vector y was passed when a 1d array was expected. Please change the shape of y to (n_samples,), for example using ravel().\n",
      "  regr_rf.fit(x_trainFolds, y_trainFolds)\n"
     ]
    },
    {
     "name": "stdout",
     "output_type": "stream",
     "text": [
      "MAE on fold 3:  0.29411764705882354\n",
      "\n",
      "Splitting the first 4 chunks at 3/4\n",
      "Size of train + test:  (72, 2)\n",
      "MAE on fold 4:  1.3529411764705883\n",
      "\n",
      "Splitting the first 5 chunks at 4/5\n",
      "Size of train + test:  (90, 2)\n"
     ]
    },
    {
     "name": "stderr",
     "output_type": "stream",
     "text": [
      "C:\\Users\\madda\\Desktop\\Magistrale\\Secondo Anno\\BigData Analitycs\\Work\\Regression\\util.py:296: DataConversionWarning: A column-vector y was passed when a 1d array was expected. Please change the shape of y to (n_samples,), for example using ravel().\n",
      "  regr_rf.fit(x_trainFolds, y_trainFolds)\n"
     ]
    },
    {
     "name": "stdout",
     "output_type": "stream",
     "text": [
      "MAE on fold 5:  1.1176470588235294\n",
      "---------------------------------\n",
      "avg(mae) =  1.0882352941176472  std dev =  0.48773893975814697\n"
     ]
    }
   ],
   "source": [
    "#The results can vary at each execution, beacause in the random forest model there is a randomic component.\n",
    "\n",
    "u.performTimeSeriesCV2(np.array(data['train']['x']), np.array(data['train']['y']), 5, 'random_forest', parameters, print_all = True);"
   ]
  },
  {
   "cell_type": "markdown",
   "metadata": {},
   "source": [
    "The following table shows the results of the cross-validation:\n",
    "\n",
    "Model | avg(MAE) | dev_std \n",
    "------------ | ------------- | ------------ \n",
    "Dummy AVG  |  1.373 | 0.416 \n",
    "Dummy RAND | 1.750 | 0.251                        \n",
    "Random Forest  |  **1.132** | 0.564 \n",
    "\n",
    "Let's now plot a prediction example of the best random forest: we train the model from 2008 to 2014 and try to predict the first 8 months of 2015, one month at time."
   ]
  },
  {
   "cell_type": "code",
   "execution_count": 93,
   "metadata": {},
   "outputs": [
    {
     "name": "stderr",
     "output_type": "stream",
     "text": [
      "C:\\Users\\madda\\Anaconda3\\lib\\site-packages\\ipykernel_launcher.py:14: DataConversionWarning: A column-vector y was passed when a 1d array was expected. Please change the shape of y to (n_samples,), for example using ravel().\n",
      "  \n"
     ]
    },
    {
     "name": "stdout",
     "output_type": "stream",
     "text": [
      "MAE:  0.3333333333333333\n",
      "Pred [2 1 2 1 2 1]\n",
      "True [2 1 3 1 2 2]\n"
     ]
    },
    {
     "data": {
      "image/png": "[encoded data removed]",
      "text/plain": [
       "<Figure size 432x288 with 1 Axes>"
      ]
     },
     "metadata": {},
     "output_type": "display_data"
    }
   ],
   "source": [
    "ranges = {\n",
    "    \"train\":[\"2008-01-01\", \"2014-12-01\"],\n",
    "    \"test\": [\"2015-01-01\", \"2015-08-01\"]\n",
    "}\n",
    "\n",
    "ts = d\n",
    "prev_obs = 2\n",
    "to_predict = 1\n",
    "\n",
    "data = u.train_test(ts, ranges, prev_obs, to_predict)\n",
    "\n",
    "clf = u.RandomForestClassifier(**parameters)\n",
    "\n",
    "clf.fit(data['train']['x'], data['train']['y'])\n",
    "\n",
    "# Predict on new data\n",
    "y_rf = clf.predict(data['test']['x'])\n",
    "print (\"MAE: \",u.print_scores(np.array(data['test']['y']).reshape(-1), y_rf, ret_scores = True)[1])\n",
    "\n",
    "print (\"Pred\", y_rf)\n",
    "\n",
    "print (\"True\", np.array(data['test']['y']).reshape(1,-1)[0])\n",
    "\n",
    "#Plotting\n",
    "idx = pd.date_range(start=ranges['test'][0], end=ranges['test'][1], freq=\"MS\")[prev_obs:]\n",
    "true = pd.Series(index = idx, data= np.array(data['test']['y']).reshape(-1))\n",
    "pred = pd.Series(index = idx, data= y_rf)\n",
    "true.plot(label = \"true\")\n",
    "pred.plot(label = \"pred\")\n",
    "axes = plt.gca()\n",
    "axes.set_ylim([0,5])\n",
    "plt.legend()\n",
    "plt.grid()"
   ]
  },
  {
   "cell_type": "markdown",
   "metadata": {},
   "source": [
    "#### Feature importance\n",
    "\n",
    "Since $prev\\_obs = 2$ we have a couple of features: $(Class(M_2), Class(M_1))$, where $M_1$ is the month at distance 1 from the month to predict (the previous month), similarly $M_2$ is the month at distance 2 and $Class(M_x)$ returns the Class for the month $x$.\n",
    "\n",
    "We analyzed the feature importance for the random forest model: $Class(M_1)$ and $Class(M_2)$ have an importance of, respectively, $0.604$ and $0.395$; this means that the class of the previous month ($M_1$) is $\\approx 1.5$ times more important than the class of $M_2$."
   ]
  },
  {
   "cell_type": "code",
   "execution_count": null,
   "metadata": {},
   "outputs": [],
   "source": [
    "clf.feature_importances_"
   ]
  },
  {
   "cell_type": "markdown",
   "metadata": {},
   "source": [
    "Now we'll analyze one of the 16 trees in the model"
   ]
  },
  {
   "cell_type": "code",
   "execution_count": 83,
   "metadata": {},
   "outputs": [],
   "source": [
    "\"\"\"\n",
    "\n",
    "from sklearn.tree import export_graphviz\n",
    "import graphviz\n",
    "import os\n",
    "\n",
    "tree_in_forest = clf.estimators_\n",
    "\n",
    "\n",
    "class_names=[]\n",
    "\n",
    "for i in range (1,6):\n",
    "    class_names.append(\"Class \"+str(i))\n",
    "\n",
    "\n",
    "i = 0\n",
    "for i in range(len(tree_in_forest)):\n",
    "    dot_data = export_graphviz(tree_in_forest[i],\n",
    "                    feature_names=[\"M_2\",\"M_1\"],\n",
    "                    filled=True, class_names=class_names,\n",
    "                    rounded=True, out_file = 'tree'+str(i)+'.dot')\n",
    "\n",
    "    os.system('dot -Tpng tree'+str(i)+'.dot -o tree'+str(i)+'.png')\n",
    "\n",
    "\"\"\""
   ]
  },
  {
   "cell_type": "markdown",
   "metadata": {},
   "source": [
    "![Allcrimes](imgs/decision_tree.png)"
   ]
  },
  {
   "cell_type": "markdown",
   "metadata": {},
   "source": [
    "The root node splits on $Class(M_1)\\leq 3.5$, if *true*, assuming we want to classify $M_{pred}$, then $Class(M_{pred}) \\in \\{1,2\\}$ that are the \"safe\" classes.\n",
    "\n",
    "The difference from a Class 1 and a Class 2 is made by $Class(M_2)$:\n",
    " - $Class(M_2) \\leq 1.5$ then Class 1\n",
    " - $Class(M_2) = 2$ then Class 2\n",
    " - $Class(M_2) > 2.5 \\; \\wedge Class(M_1) \\leq 2.5 $ then Class 1\n",
    " - $Class(M_2) > 2.5 \\; \\wedge Class(M_1) < 2.5 $ then Class 2\n",
    "\n",
    "Else, if $Class(M_1)\\leq 3.5$ is *false*, $Class(M_{pred}) \\in \\{3,5\\}$ that are the \"dangerous\" classes.\n",
    "\n",
    "The difference from a Class 3 and a Class 5 is made by\n",
    " - $Class(M_1) = 5$ then Class 5\n",
    " - $Class(M_1) \\leq 4.5 \\; \\wedge Class(M_2) \\leq 2.5$ then Class 3\n",
    " - $Class(M_1) \\leq 4.5 \\; \\wedge Class(M_2) > 2.5$ then Class 5"
   ]
  },
  {
   "cell_type": "markdown",
   "metadata": {},
   "source": [
    "#### Gradient Boosting\n",
    "We used the *gradient boosting classifier*, also  this  time  several  configurations  were  evaluated;  the\n",
    "best-one with respect to the MAE has this parameters:\n",
    "\n",
    "- **n_estimators**= 10\n",
    "- **learning_rate** = 0.17\n",
    "- **max_depth** = 4\n",
    "- **min_samples_leaf** = 2\n",
    "- **min_samples_split** = 2\n",
    "- **subsample** = 0.8\n",
    "- **random_state** = 10"
   ]
  },
  {
   "cell_type": "code",
   "execution_count": 47,
   "metadata": {},
   "outputs": [],
   "source": [
    "parameters={'n_estimators': 10, 'max_depth': 4, 'min_samples_split': 2, 'min_samples_leaf': 2, \n",
    "            'learning_rate': 0.17, 'subsample': 0.8, 'random_state': 10}"
   ]
  },
  {
   "cell_type": "code",
   "execution_count": 49,
   "metadata": {},
   "outputs": [],
   "source": [
    "ranges = {\n",
    "    \"train\":[\"2009-01-01\", \"2016-12-01\"],\n",
    "    \"test\": [\"2017-12-01\", \"2018-12-01\"]\n",
    "}\n",
    "\n",
    "ts=d\n",
    "prev_obs = 2\n",
    "to_predict = 1\n",
    "\n",
    "\n",
    "data = u.train_test(ts, ranges, prev_obs, to_predict)"
   ]
  },
  {
   "cell_type": "code",
   "execution_count": 51,
   "metadata": {
    "scrolled": true
   },
   "outputs": [
    {
     "name": "stdout",
     "output_type": "stream",
     "text": [
      "\n",
      "Splitting the first 2 chunks at 1/2\n",
      "Size of train + test:  (36, 2)\n",
      "MAE on fold 2:  1.2352941176470589\n",
      "\n",
      "Splitting the first 3 chunks at 2/3\n",
      "Size of train + test:  (54, 2)\n",
      "MAE on fold 3:  0.29411764705882354\n",
      "\n",
      "Splitting the first 4 chunks at 3/4\n",
      "Size of train + test:  (72, 2)\n",
      "MAE on fold 4:  1.2352941176470589\n",
      "\n",
      "Splitting the first 5 chunks at 4/5\n",
      "Size of train + test:  (90, 2)\n",
      "MAE on fold 5:  0.9411764705882353\n",
      "---------------------------------\n",
      "avg(mae) =  0.9264705882352942  std dev =  0.3843274807462347\n"
     ]
    },
    {
     "name": "stderr",
     "output_type": "stream",
     "text": [
      "C:\\Users\\madda\\Anaconda3\\lib\\site-packages\\sklearn\\utils\\validation.py:578: DataConversionWarning: A column-vector y was passed when a 1d array was expected. Please change the shape of y to (n_samples, ), for example using ravel().\n",
      "  y = column_or_1d(y, warn=True)\n",
      "C:\\Users\\madda\\Anaconda3\\lib\\site-packages\\sklearn\\utils\\validation.py:578: DataConversionWarning: A column-vector y was passed when a 1d array was expected. Please change the shape of y to (n_samples, ), for example using ravel().\n",
      "  y = column_or_1d(y, warn=True)\n",
      "C:\\Users\\madda\\Anaconda3\\lib\\site-packages\\scipy\\stats\\stats.py:3010: RuntimeWarning: invalid value encountered in double_scalars\n",
      "  r = r_num / r_den\n",
      "C:\\Users\\madda\\Anaconda3\\lib\\site-packages\\scipy\\stats\\stats.py:5256: RuntimeWarning: invalid value encountered in less\n",
      "  x = np.where(x < 1.0, x, 1.0)  # if x > 1 then return 1.0\n",
      "C:\\Users\\madda\\Anaconda3\\lib\\site-packages\\sklearn\\utils\\validation.py:578: DataConversionWarning: A column-vector y was passed when a 1d array was expected. Please change the shape of y to (n_samples, ), for example using ravel().\n",
      "  y = column_or_1d(y, warn=True)\n",
      "C:\\Users\\madda\\Anaconda3\\lib\\site-packages\\sklearn\\utils\\validation.py:578: DataConversionWarning: A column-vector y was passed when a 1d array was expected. Please change the shape of y to (n_samples, ), for example using ravel().\n",
      "  y = column_or_1d(y, warn=True)\n"
     ]
    }
   ],
   "source": [
    "u.performTimeSeriesCV2(np.array(data['train']['x']), np.array(data['train']['y']), 5, 'gradient_boost', parameters, print_all = True);"
   ]
  },
  {
   "cell_type": "markdown",
   "metadata": {},
   "source": [
    "The cross-validation resulted in these scores:\n",
    "\n",
    "Model | avg(MAE) | dev_std \n",
    "------------ | ------------- | ------------ \n",
    "Dummy AVG  |  1.373 | 0.416 \n",
    "Dummy RAND | 1.750 | 0.251                        \n",
    "Gradient Boosting  |  **0.926** | 0.384 \n",
    "\n",
    "Again we plot a prediction example of the best execution."
   ]
  },
  {
   "cell_type": "code",
   "execution_count": 53,
   "metadata": {},
   "outputs": [
    {
     "name": "stdout",
     "output_type": "stream",
     "text": [
      "MAE:  0.6666666666666666\n",
      "Pred [2 1 2 3 2 1]\n",
      "True [2 1 3 1 2 2]\n"
     ]
    },
    {
     "name": "stderr",
     "output_type": "stream",
     "text": [
      "C:\\Users\\madda\\Anaconda3\\lib\\site-packages\\sklearn\\utils\\validation.py:578: DataConversionWarning: A column-vector y was passed when a 1d array was expected. Please change the shape of y to (n_samples, ), for example using ravel().\n",
      "  y = column_or_1d(y, warn=True)\n"
     ]
    },
    {
     "data": {
      "image/png": "[encoded data removed]",
      "text/plain": [
       "<Figure size 432x288 with 1 Axes>"
      ]
     },
     "metadata": {},
     "output_type": "display_data"
    }
   ],
   "source": [
    "ranges = {\n",
    "    \"train\":[\"2008-01-01\", \"2014-12-01\"],\n",
    "    \"test\": [\"2015-01-01\", \"2015-08-01\"]\n",
    "}\n",
    "\n",
    "ts = d\n",
    "prev_obs = 2\n",
    "to_predict = 1\n",
    "\n",
    "data = u.train_test(ts, ranges, prev_obs, to_predict)\n",
    "\n",
    "clf = u.GradientBoostingClassifier(**parameters)\n",
    "\n",
    "clf.fit(data['train']['x'], data['train']['y'])\n",
    "\n",
    "# Predict on new data\n",
    "y_rf = clf.predict(data['test']['x'])\n",
    "print (\"MAE: \",u.print_scores(np.array(data['test']['y']).reshape(-1), y_rf, ret_scores = True)[1])\n",
    "\n",
    "print (\"Pred\", y_rf)\n",
    "\n",
    "print (\"True\", np.array(data['test']['y']).reshape(1,-1)[0])\n",
    "\n",
    "\n",
    "#Plotting\n",
    "idx = pd.date_range(start=ranges['test'][0], end=ranges['test'][1], freq=\"MS\")[prev_obs:]\n",
    "true = pd.Series(index = idx, data= np.array(data['test']['y']).reshape(-1))\n",
    "pred = pd.Series(index = idx, data= y_rf)\n",
    "true.plot(label = \"true\")\n",
    "pred.plot(label = \"pred\")\n",
    "axes = plt.gca()\n",
    "axes.set_ylim([0,5])\n",
    "plt.legend()\n",
    "plt.grid()"
   ]
  },
  {
   "cell_type": "markdown",
   "metadata": {},
   "source": [
    "The optimal $prev\\_obs$ is again $2$, so we analyze the importance feature of $(Class(M_2), Class(M_1))$; this time the importance is more balanced, in fact is, respectively of $0.466$ and $0.533$."
   ]
  },
  {
   "cell_type": "code",
   "execution_count": 54,
   "metadata": {},
   "outputs": [
    {
     "data": {
      "text/plain": [
       "array([0.46675941, 0.53324059])"
      ]
     },
     "execution_count": 54,
     "metadata": {},
     "output_type": "execute_result"
    }
   ],
   "source": [
    "clf.feature_importances_"
   ]
  },
  {
   "cell_type": "markdown",
   "metadata": {},
   "source": [
    "<a id=\"mresult\"></a>\n",
    "### 2.B Multiclassification Results [to top](#top)\n",
    "\n",
    "We now compare random forest and gradient boosting with the dummy regressos both in statistical and visual terms.\n",
    "We first plot the execution of models trained from 2008 to late 2014 and tested on February, March, April and May of 2015."
   ]
  },
  {
   "cell_type": "code",
   "execution_count": 121,
   "metadata": {},
   "outputs": [
    {
     "name": "stderr",
     "output_type": "stream",
     "text": [
      "C:\\Users\\madda\\Anaconda3\\lib\\site-packages\\ipykernel_launcher.py:41: DataConversionWarning: A column-vector y was passed when a 1d array was expected. Please change the shape of y to (n_samples,), for example using ravel().\n",
      "C:\\Users\\madda\\Anaconda3\\lib\\site-packages\\sklearn\\utils\\validation.py:578: DataConversionWarning: A column-vector y was passed when a 1d array was expected. Please change the shape of y to (n_samples, ), for example using ravel().\n",
      "  y = column_or_1d(y, warn=True)\n",
      "C:\\Users\\madda\\Anaconda3\\lib\\site-packages\\scipy\\stats\\stats.py:3010: RuntimeWarning: invalid value encountered in double_scalars\n",
      "  r = r_num / r_den\n",
      "C:\\Users\\madda\\Anaconda3\\lib\\site-packages\\scipy\\stats\\stats.py:5256: RuntimeWarning: invalid value encountered in less\n",
      "  x = np.where(x < 1.0, x, 1.0)  # if x > 1 then return 1.0\n"
     ]
    },
    {
     "name": "stdout",
     "output_type": "stream",
     "text": [
      "MAE [RF]:  0.25\n",
      "MAE [GB]:  0.25\n",
      "MAE [AV]:  1.25\n",
      "MAE [RD]:  1.25\n",
      "Pred [RF]:  [1 2 1 2]\n",
      "Pred [GB]:  [1 2 1 2]\n",
      "Pred [AV]:  [3 3 3 3]\n",
      "Pred [RD]:  [2, 1, 3, 2]\n",
      "True [1 2 1 3]\n"
     ]
    },
    {
     "data": {
      "image/png": "[encoded data removed]",
      "text/plain": [
       "<Figure size 720x504 with 1 Axes>"
      ]
     },
     "metadata": {},
     "output_type": "display_data"
    }
   ],
   "source": [
    "ranges = {\n",
    "    \"train\":[\"2008-01-01\", \"2014-11-01\"],\n",
    "    \"test\": [\"2014-12-01\", \"2015-05-01\"]\n",
    "}\n",
    "\n",
    "ranges2 = {\n",
    "    \"train\":[\"2014-01-01\", \"2014-11-01\"],\n",
    "    \"test\": [\"2014-12-01\", \"2015-05-01\"]\n",
    "}\n",
    "\n",
    "ts = d\n",
    "prev_obs = 2\n",
    "to_predict = 1\n",
    "\n",
    "data = u.train_test(ts, ranges, prev_obs, to_predict)\n",
    "\n",
    "#GRAPH SETTINGs\n",
    "\n",
    "plt.figure(figsize=(10,7))\n",
    "axes = plt.gca()\n",
    "axes.set_ylim([0,5])\n",
    "\n",
    "\n",
    "\n",
    "#TRUE line\n",
    "train = d.loc[ranges2['train'][0]:ranges2['train'][1]]\n",
    "test = d.loc[ranges2['test'][0]:ranges2['test'][1]]\n",
    "\n",
    "tot = train.append(test)\n",
    "\n",
    "#VERTICAL LINE\n",
    "plt.plot((pd.to_datetime(\"2015/02/01\"), pd.to_datetime(\"2015/02/01\")), (0, 5), 'grey', dashes=[5,5])\n",
    "\n",
    "\n",
    "#RANDOM_FOREST ***********************************************************\n",
    "\n",
    "parameters = {'n_estimators': 16, 'bootstrap': False, 'n_jobs': -1, 'max_depth': None, 'min_samples_leaf': 5}\n",
    "\n",
    "random_forest = u.RandomForestClassifier(**parameters)\n",
    "\n",
    "random_forest.fit(data['train']['x'], data['train']['y'])\n",
    "\n",
    "# Predict on new data\n",
    "y_rf = random_forest.predict(data['test']['x'])\n",
    "\n",
    "\n",
    "\n",
    "#GRADIENT_BOOSTING ***********************************************************\n",
    "\n",
    "parameters={'n_estimators': 10, 'max_depth': 4, 'min_samples_split': 2, 'min_samples_leaf': 2, \n",
    "            'learning_rate': 0.17, 'subsample': 0.8, 'random_state': 10}\n",
    "\n",
    "gradient_boosting = u.GradientBoostingClassifier(**parameters)\n",
    "\n",
    "gradient_boosting.fit(data['train']['x'], data['train']['y'])\n",
    "\n",
    "# Predict on new data\n",
    "y_gb = clf.predict(data['test']['x'])\n",
    "\n",
    "\n",
    "#DUMMYS CLASSIFIERS\n",
    "\n",
    "y_avg = u.dummy_avg(data['train']['y'], data['test']['y'])\n",
    "\n",
    "y_rnd = u.dummy_range(1,5, data['test']['y'])\n",
    "#for obtain the same result\n",
    "y_rnd = [2,1,3,2]\n",
    "\n",
    "\n",
    "#PRINT SCORES\n",
    "\n",
    "print (\"MAE [RF]: \",u.print_scores(np.array(data['test']['y']).reshape(-1), y_rf, ret_scores = True)[1])\n",
    "print (\"MAE [GB]: \",u.print_scores(np.array(data['test']['y']).reshape(-1), y_gb, ret_scores = True)[1])\n",
    "print (\"MAE [AV]: \",u.print_scores(np.array(data['test']['y']).reshape(-1), y_avg, ret_scores = True)[1])\n",
    "print (\"MAE [RD]: \",u.print_scores(np.array(data['test']['y']).reshape(-1), y_rnd, ret_scores = True)[1])\n",
    "\n",
    "print (\"Pred [RF]: \",y_rf)\n",
    "print (\"Pred [GB]: \",y_gb)\n",
    "print (\"Pred [AV]: \",y_avg)\n",
    "print (\"Pred [RD]: \",y_rnd)\n",
    "print (\"True\", np.array(data['test']['y']).reshape(1,-1)[0])\n",
    "\n",
    "\n",
    "#Plotting\n",
    "idx = pd.date_range(start=ranges2['test'][0], end=ranges2['test'][1], freq=\"MS\")[prev_obs:]\n",
    "true = pd.Series(index = idx, data= np.array(data['test']['y']).reshape(-1))\n",
    "\n",
    "predRF = pd.Series(index = idx, data= y_rf)\n",
    "predGB = pd.Series(index = idx, data= y_gb)\n",
    "predDAvg = pd.Series(index = idx, data= y_avg)\n",
    "predDRand = pd.Series(index = idx, data= y_rnd)\n",
    "\n",
    "plt.plot(tot, label = \"True\", color=\"blue\")\n",
    "predRF.plot(label = \"RF\", color=\"green\", marker=\"*\")\n",
    "predGB.plot(label = \"GB\", color=\"black\",linestyle=\"--\")\n",
    "predDAvg.plot(label = \"AVG\", color=\"red\")\n",
    "predDRand.plot(label = \"RAND\", color=\"orange\")\n",
    "\n",
    "\n",
    "plt.grid()\n",
    "plt.legend()\n",
    "plt.savefig(\"finale.png\")"
   ]
  },
  {
   "cell_type": "markdown",
   "metadata": {},
   "source": [
    "then we show a table that compares the scores collected with the cross-validation."
   ]
  },
  {
   "cell_type": "markdown",
   "metadata": {},
   "source": [
    "Model | avg(MAE) | dev_std | predicted(1,2,1,3) | MAE(test)\n",
    "------------ | ------------- | ------------ | ------------- | ------------- \n",
    "Dummy AVG  |  1.373 | 0.416 | (3, 3, 3, 3)| 1.25\n",
    "Dummy RAND | 1.808 | 0.428 | (2, 1, 3, 2) | 1.25                        \n",
    "Random Forest  |  1.088 |0.487 | (1,2,1,2) | 0.25\n",
    "Gradient Boosting | **0.926** | 0.384 | (1,2,1,2) | 0.25\n",
    "\n",
    "The best model in this case is the Gradient Boosting since it has a greater accuracy (lowest value of MAE) and is more stable (lower standard deviation than Random Forest)."
   ]
  },
  {
   "cell_type": "markdown",
   "metadata": {},
   "source": [
    "\n",
    "\n",
    "<a id='lsoa'></a>\n",
    "## 3. LSOA Prediction [to top](#top) \n",
    "\n",
    "In the data understanding phase we spotted LSOA in London where the crime value is always high all over the years. The gif below shows our previous results.\n",
    "\n",
    "![Allcrimes](imgs/all_crimes.gif)\n",
    "\n",
    "We then performed clustering to understand if and how LSOA can be grouped and characterized in some meaningfull way. We used as clustering attributes the number of crimes within a specific category.\n",
    "\n",
    "Among all major crime categories used, three of them separate LSOA in dangerousness classes. \n",
    "\n",
    "![DBscan](imgs/dbscan.png)\n",
    "\n",
    "As this bar plot shows cluster 2 contains (very few) LSOA with very high crime values. We decided to focus our analysis on this cluster of dangerous LSOA. We will propose a model for a generic LSOA in cluster 2 and assume that this model approximate *well* also the behavoir of LSOA in the same cluster. Then we will validate our assumption looking at how the selected model works and performs.\n",
    "\n",
    "LSOA in cluster 2 belong to the previously discovered dangerous boroughs, namely the ones in black in the map: Camden, Croydon, Hillingdon, Islington, Westminister and Hackney. We search for the model that best fits the first LSOA in the list, that belongs to Camden. \n",
    "\n",
    "Following a [crime prediction work](https://epjdatascience.springeropen.com/articles/10.1140/epjds/s13688-018-0150-z) presented in a class, we choose to try three regressors: RandomForest, ExtraTrees and GradientBoost."
   ]
  },
  {
   "cell_type": "code",
   "execution_count": 122,
   "metadata": {},
   "outputs": [
    {
     "data": {
      "text/html": [
       "<div>\n",
       "<style scoped>\n",
       "    .dataframe tbody tr th:only-of-type {\n",
       "        vertical-align: middle;\n",
       "    }\n",
       "\n",
       "    .dataframe tbody tr th {\n",
       "        vertical-align: top;\n",
       "    }\n",
       "\n",
       "    .dataframe thead th {\n",
       "        text-align: right;\n",
       "    }\n",
       "</style>\n",
       "<table border=\"1\" class=\"dataframe\">\n",
       "  <thead>\n",
       "    <tr style=\"text-align: right;\">\n",
       "      <th></th>\n",
       "      <th>lsoa_code</th>\n",
       "      <th>borough</th>\n",
       "      <th>Burglary</th>\n",
       "      <th>Criminal Damage</th>\n",
       "      <th>Drugs</th>\n",
       "      <th>Fraud or Forgery</th>\n",
       "      <th>Other Notifiable Offences</th>\n",
       "      <th>Robbery</th>\n",
       "      <th>Sexual Offences</th>\n",
       "      <th>Theft and Handling</th>\n",
       "      <th>Violence Against the Person</th>\n",
       "      <th>value</th>\n",
       "      <th>month</th>\n",
       "    </tr>\n",
       "  </thead>\n",
       "  <tbody>\n",
       "    <tr>\n",
       "      <th>0</th>\n",
       "      <td>E01000006</td>\n",
       "      <td>Barking and Dagenham</td>\n",
       "      <td>1.0</td>\n",
       "      <td>1.0</td>\n",
       "      <td>0.0</td>\n",
       "      <td>0.0</td>\n",
       "      <td>0.0</td>\n",
       "      <td>2.0</td>\n",
       "      <td>0.0</td>\n",
       "      <td>7.0</td>\n",
       "      <td>5.0</td>\n",
       "      <td>16.0</td>\n",
       "      <td>2008-1</td>\n",
       "    </tr>\n",
       "    <tr>\n",
       "      <th>1</th>\n",
       "      <td>E01000007</td>\n",
       "      <td>Barking and Dagenham</td>\n",
       "      <td>0.0</td>\n",
       "      <td>1.0</td>\n",
       "      <td>6.0</td>\n",
       "      <td>1.0</td>\n",
       "      <td>0.0</td>\n",
       "      <td>0.0</td>\n",
       "      <td>1.0</td>\n",
       "      <td>10.0</td>\n",
       "      <td>10.0</td>\n",
       "      <td>29.0</td>\n",
       "      <td>2008-1</td>\n",
       "    </tr>\n",
       "  </tbody>\n",
       "</table>\n",
       "</div>"
      ],
      "text/plain": [
       "   lsoa_code               borough  Burglary  Criminal Damage  Drugs  \\\n",
       "0  E01000006  Barking and Dagenham       1.0              1.0    0.0   \n",
       "1  E01000007  Barking and Dagenham       0.0              1.0    6.0   \n",
       "\n",
       "   Fraud or Forgery  Other Notifiable Offences  Robbery  Sexual Offences  \\\n",
       "0               0.0                        0.0      2.0              0.0   \n",
       "1               1.0                        0.0      0.0              1.0   \n",
       "\n",
       "   Theft and Handling  Violence Against the Person  value   month  \n",
       "0                 7.0                          5.0   16.0  2008-1  \n",
       "1                10.0                         10.0   29.0  2008-1  "
      ]
     },
     "execution_count": 122,
     "metadata": {},
     "output_type": "execute_result"
    }
   ],
   "source": [
    "series = pd.read_csv('data\\LC_ts.csv')\n",
    "series.rename(columns={'period':'month'}, inplace=True)\n",
    "series.head(2)"
   ]
  },
  {
   "cell_type": "markdown",
   "metadata": {},
   "source": [
    "<a id='random'></a> \n",
    "### 3.A Model Selection and interpretaion [to top](#top)\n",
    "\n",
    "For each best configuration and cross validation we collected four scores:\n",
    " - *Explained Variance EV*: is a measure for the prediction accuracy. The best possible score is 1.0, lower values are worse.\n",
    " - *Mean Absolute Error MAE* \n",
    " - *R2*\n",
    " - *Pearson Correlation*\n",
    "\n",
    "We search for the best configuration for each regressor and compared the results also with a dummy baseline. The performances are summarized in the table below.\n",
    "\n",
    " \n",
    "Model | EV | MAE | R2 | Corr\n",
    "------------ | ------------- | ------------ | ------------- | -------------\n",
    "Random Forest  |  0.13 | **0.113** | **-0.255** | **0.47** \n",
    "Extra Trees  | 0.16 | 0.119 | -0.338 | 0.4                          \n",
    "Gradient Boost  |  **0.17** | 0.134 | -0.47 | 0.46\n",
    "Dummy_avg | 0 | 0.14 | -0.87 | \n",
    "\n",
    "All best configurations outperformed the baseline, and among them, the random forest reaches the best performaces in terms of all scores but one, so we choose to analyse it.\n",
    "\n",
    "The optimal parameter configuration is:\n",
    " \n",
    "Parameter | value \n",
    "------------ | -------------\n",
    "prev_obs  |  9 \n",
    "max_depth  | None                          \n",
    "n_estimators  | 5\n",
    "\n",
    "where max_depth is the maximum depth of the generic tree in the forest and n_estimators is the number of three composing the forest. As first step we plot the feature importance. In this execution we'll have 9 features, one for each prev_obs."
   ]
  },
  {
   "cell_type": "code",
   "execution_count": 19,
   "metadata": {},
   "outputs": [
    {
     "name": "stderr",
     "output_type": "stream",
     "text": [
      "C:\\ProgramData\\Anaconda2\\lib\\site-packages\\ipykernel_launcher.py:27: DataConversionWarning: A column-vector y was passed when a 1d array was expected. Please change the shape of y to (n_samples,), for example using ravel().\n"
     ]
    },
    {
     "data": {
      "image/png": "[encoded data removed]",
      "text/plain": [
       "<Figure size 432x288 with 1 Axes>"
      ]
     },
     "metadata": {},
     "output_type": "display_data"
    }
   ],
   "source": [
    "from sklearn.ensemble import RandomForestRegressor\n",
    "import matplotlib.pyplot as plt\n",
    "\n",
    "ranges = {\n",
    "    \"train\":[\"2011-01-01\", \"2016-12-01\"],\n",
    "    \"test\": [\"2017-01-01\", \"2017-02-02\"]\n",
    "}\n",
    "\n",
    "#Get the LSOA time series and normalize\n",
    "ts = u.get_lsoa_ts(series, u.critic_lsoa[0])['value']\n",
    "ts_norm, scaler = u.normalize_data(ts)\n",
    "ts_norm = pd.Series(index=ts.index, data=ts_norm);\n",
    "\n",
    "#Set random forest best parameters and prepare the data for regression\n",
    "param = {'n_jobs': -1, 'bootstrap': True, 'n_estimators': 5, 'criterion': 'mse', 'min_samples_split': 0.25, 'max_depth': None}\n",
    "prev_obs = 9\n",
    "to_predict = 1\n",
    "d = u.train_test(ts_norm, ranges, prev_obs, to_predict)\n",
    "\n",
    "x_trainFolds = d['train']['x'][:40]\n",
    "y_trainFolds = d['train']['y'][:40]\n",
    "x_testFold = d['train']['x'][40:50]\n",
    "y_testFold = d['train']['y'][40:50]\n",
    "\n",
    "#Train\n",
    "model = RandomForestRegressor(**param)\n",
    "model.fit(x_trainFolds, y_trainFolds)\n",
    "\n",
    "#Test\n",
    "y_pred = model.predict(x_testFold)\n",
    "\n",
    "#Plot Feature Importance\n",
    "xt = [ (\"month -\" + str(i+1)) for i in range(prev_obs-1, -1, -1)]\n",
    "plt.bar(xt, model.feature_importances_)\n",
    "plt.xticks(rotation = 45, fontsize=15)\n",
    "plt.yticks(fontsize = 15)\n",
    "#plt.title(\"Feature importance in the best RandomForestRegressor\", fontsize=20)\n",
    "plt.grid(axis='y', c='lightgrey')\n",
    "plt.show()"
   ]
  },
  {
   "cell_type": "markdown",
   "metadata": {},
   "source": [
    "The bar plot shows that the most important measurements for predicting of the total number of crimes that will occurr in the next month are **again** the one collected in the previous two months and the one collected 8 months before. \n",
    "As we can see also from the autocorrealtion plot, this time series has positive and significant autocorrelation at lags 1 and 2, so we can expect some recurring behaviour in small temporal ranges."
   ]
  },
  {
   "cell_type": "code",
   "execution_count": 36,
   "metadata": {},
   "outputs": [
    {
     "data": {
      "image/png": "[encoded data removed]",
      "text/plain": [
       "<Figure size 432x288 with 1 Axes>"
      ]
     },
     "metadata": {},
     "output_type": "display_data"
    }
   ],
   "source": [
    "from statsmodels.graphics.tsaplots import plot_acf\n",
    "plot_acf(ts_norm, lags=12);"
   ]
  },
  {
   "cell_type": "markdown",
   "metadata": {},
   "source": [
    "<a id='eval'></a> \n",
    "### 3.B Assumption Evaluation [to top](#top)\n",
    "Now we will evaluate our assumption that was that a model trained on a *critic* LSOA approximates well also the behavoir of LSOAs in the same cluster.\n",
    "\n",
    "We use the random forest model with the parameter estimated in the previous step and we perform a Cross Validation where:\n",
    "For each step $i$ of the Cross validation we build a Random Forest regressor $RF_i$ that is trained in the current fold of the LSOA of reference, than we test $RF_i$ on the others LSOAs and we collect the results in terms of *EV*, *MAE*, *R2* and *Correlation*."
   ]
  },
  {
   "cell_type": "code",
   "execution_count": 41,
   "metadata": {},
   "outputs": [],
   "source": [
    "n_n=[\"ev\",\"mae\",\"r2\",\"corr\"]\n",
    "\n",
    "n_v=[0.13, 0.113, -0.255, 0.47]\n",
    "\n",
    "score_dummy = [-1.036208156316813e-17, 0.1559898529932095, -2.64674745989479]\n",
    "\n",
    "\n",
    "def plot_score_lsoa(dic, dic2, metric, label, title):\n",
    "    y=[]\n",
    "    \n",
    "    x=dic.keys()\n",
    "    \n",
    "    for k in x:\n",
    "         y.append(dic[k][metric].mean())\n",
    "        \n",
    "    #Plotting\n",
    "    fig = u.plt.figure(figsize=(10,6))\n",
    "    avg=np.array(y).mean()\n",
    "    u.plt.xticks(rotation=45)\n",
    "    u.plt.grid(color='grey', linestyle='--', linewidth=0.5)\n",
    "    u.plt.title(title)\n",
    "    \n",
    "    \n",
    "    #avg line\n",
    "    avg1= u.plt.plot((0, 14), (avg, avg), 'grey', label = \"AVG\")\n",
    "    \n",
    "    #LSOA critic 0 line\n",
    "    ind2 = n_n.index(metric)\n",
    "    s = n_v[ind2]\n",
    "    u.plt.plot((0, 14), (s, s), 'red', dashes=[5,5], label = \"Ref\")\n",
    "    \n",
    "    if metric != \"corr\":\n",
    "        ind = n_n.index(metric)  \n",
    "        avg2=u.plt.plot((0, 14), (score_dummy[ind], score_dummy[ind]), 'orange', label = \"AVG_dummy\", linestyle=\":\", marker=\"*\", linewidth=3)\n",
    "        \n",
    "        u.plt.fill_between(np.arange(0,15,1),s,score_dummy[ind], color=\"lightgreen\", alpha=0.5)\n",
    "    else:\n",
    "        u.plt.fill_between(np.arange(0,15,1),s,avg, color=\"lightgreen\", alpha=0.5)\n",
    "        \n",
    "    \n",
    "    u.plt.plot(x,y, label = label, color=\"blue\", marker=\".\", markersize=7)\n",
    "    \n",
    "    \n",
    "\n",
    "    u.plt.legend()"
   ]
  },
  {
   "cell_type": "code",
   "execution_count": 21,
   "metadata": {
    "scrolled": true
   },
   "outputs": [
    {
     "name": "stdout",
     "output_type": "stream",
     "text": [
      "('LSOA: ', 'E01033595')\n",
      "('avg(', 'ev', ') = ', 0.2679869902675381, 'std dev = ', 0.20501424184106232)\n",
      "('avg(', 'mae', ') = ', 0.14760534510622195, 'std dev = ', 0.05953948326237563)\n",
      "('avg(', 'corr', ') = ', 0.5579163573075288, 'std dev = ', 0.2936902536659386)\n",
      "('avg(', 'r2', ') = ', -0.4562233881433251, 'std dev = ', 0.6287811940224766)\n",
      "-------------------------------\n",
      "()\n",
      "('LSOA: ', 'E01000914')\n",
      "('avg(', 'ev', ') = ', -0.06323369979255375, 'std dev = ', 0.17422088249877887)\n",
      "('avg(', 'mae', ') = ', 0.13114449968721342, 'std dev = ', 0.02880605944624128)\n",
      "('avg(', 'corr', ') = ', 0.026823291405559235, 'std dev = ', 0.3357319248779397)\n",
      "('avg(', 'r2', ') = ', -0.11224316497773734, 'std dev = ', 0.19617424834939132)\n",
      "-------------------------------\n",
      "()\n",
      "('LSOA: ', 'E01000919')\n",
      "('avg(', 'ev', ') = ', -0.29155785490096503, 'std dev = ', 0.3016031338736285)\n",
      "('avg(', 'mae', ') = ', 0.154019841766159, 'std dev = ', 0.05076561457128824)\n",
      "('avg(', 'corr', ') = ', -0.0374239370574823, 'std dev = ', 0.37640132806948295)\n",
      "('avg(', 'r2', ') = ', -2.5965749713318944, 'std dev = ', 3.616991333170373)\n",
      "-------------------------------\n",
      "()\n",
      "('LSOA: ', 'E01004761')\n",
      "('avg(', 'ev', ') = ', -0.10873311507679817, 'std dev = ', 0.20820128159406115)\n",
      "('avg(', 'mae', ') = ', 0.18858953748381854, 'std dev = ', 0.08867484954154786)\n",
      "('avg(', 'corr', ') = ', 0.022017893689978075, 'std dev = ', 0.334303246372456)\n",
      "('avg(', 'r2', ') = ', -2.059007402751168, 'std dev = ', 1.9179920062634872)\n",
      "-------------------------------\n",
      "()\n",
      "('LSOA: ', 'E01004736')\n",
      "('avg(', 'ev', ') = ', -0.7028650841287588, 'std dev = ', 0.8800229247185495)\n",
      "('avg(', 'mae', ') = ', 0.10248459759901826, 'std dev = ', 0.02952309882085211)\n",
      "('avg(', 'corr', ') = ', 0.08421675021866436, 'std dev = ', 0.2819401271321038)\n",
      "('avg(', 'r2', ') = ', -0.9395440042312602, 'std dev = ', 0.8395758676136612)\n",
      "-------------------------------\n",
      "()\n",
      "('LSOA: ', 'E01004735')\n",
      "('avg(', 'ev', ') = ', 0.05592163811361077, 'std dev = ', 0.15441434355557387)\n",
      "('avg(', 'mae', ') = ', 0.15174921825330326, 'std dev = ', 0.06330059346102722)\n",
      "('avg(', 'corr', ') = ', 0.29758845435223247, 'std dev = ', 0.39522198402255637)\n",
      "('avg(', 'r2', ') = ', -1.6539969374781354, 'std dev = ', 1.6338095282187286)\n",
      "-------------------------------\n",
      "()\n",
      "('LSOA: ', 'E01004734')\n",
      "('avg(', 'ev', ') = ', -0.5356945753328567, 'std dev = ', 0.5804235862145679)\n",
      "('avg(', 'mae', ') = ', 0.20037865568330196, 'std dev = ', 0.08835024028235453)\n",
      "('avg(', 'corr', ') = ', 0.047447082488260885, 'std dev = ', 0.3386407988813456)\n",
      "('avg(', 'r2', ') = ', -11.71778054440702, 'std dev = ', 18.185751095289604)\n",
      "-------------------------------\n",
      "()\n",
      "('LSOA: ', 'E01001043')\n",
      "('avg(', 'ev', ') = ', -0.23269445763913774, 'std dev = ', 0.33291315568013735)\n",
      "('avg(', 'mae', ') = ', 0.1625563597819704, 'std dev = ', 0.036208785193706565)\n",
      "('avg(', 'corr', ') = ', -0.02405755481859047, 'std dev = ', 0.22899430295314246)\n",
      "('avg(', 'r2', ') = ', -1.3647529994046967, 'std dev = ', 1.3660440767548367)\n",
      "-------------------------------\n",
      "()\n",
      "('LSOA: ', 'E01004763')\n",
      "('avg(', 'ev', ') = ', -0.10765295991576648, 'std dev = ', 0.2855979265385729)\n",
      "('avg(', 'mae', ') = ', 0.19161097259500778, 'std dev = ', 0.03870990535235893)\n",
      "('avg(', 'corr', ') = ', 0.2516105708324458, 'std dev = ', 0.15265430461101798)\n",
      "('avg(', 'r2', ') = ', -6.348357157801365, 'std dev = ', 4.827394244686439)\n",
      "-------------------------------\n",
      "()\n",
      "('LSOA: ', 'E01000863')\n",
      "('avg(', 'ev', ') = ', -0.8461520830839964, 'std dev = ', 0.9323276639382113)\n",
      "('avg(', 'mae', ') = ', 0.15309467720348652, 'std dev = ', 0.039091361619236153)\n",
      "('avg(', 'corr', ') = ', -0.18593776214773916, 'std dev = ', 0.26553114818294693)\n",
      "('avg(', 'r2', ') = ', -3.4097866726568045, 'std dev = ', 2.7819925578868743)\n",
      "-------------------------------\n",
      "()\n",
      "('LSOA: ', 'E01004765')\n",
      "('avg(', 'ev', ') = ', 0.09595529257686367, 'std dev = ', 0.22952575067550962)\n",
      "('avg(', 'mae', ') = ', 0.16778769735483343, 'std dev = ', 0.07212461242847513)\n",
      "('avg(', 'corr', ') = ', 0.2913278437027469, 'std dev = ', 0.2752089630752856)\n",
      "('avg(', 'r2', ') = ', -0.9286884493797738, 'std dev = ', 1.3207474844687845)\n",
      "-------------------------------\n",
      "()\n",
      "('LSOA: ', 'E01033708')\n",
      "('avg(', 'ev', ') = ', -0.023072782575986085, 'std dev = ', 0.22745679209698608)\n",
      "('avg(', 'mae', ') = ', 0.14095788307760918, 'std dev = ', 0.02660905417077382)\n",
      "('avg(', 'corr', ') = ', 0.1025669466388821, 'std dev = ', 0.42335341648979363)\n",
      "('avg(', 'r2', ') = ', -0.6351893157023931, 'std dev = ', 0.5257474751922054)\n",
      "-------------------------------\n",
      "()\n",
      "('LSOA: ', 'E01002724')\n",
      "('avg(', 'ev', ') = ', -0.6899371080097189, 'std dev = ', 0.4251470364771086)\n",
      "('avg(', 'mae', ') = ', 0.2284956572144377, 'std dev = ', 0.06339866314159731)\n",
      "('avg(', 'corr', ') = ', -0.16438270623912854, 'std dev = ', 0.21946515287460586)\n",
      "('avg(', 'r2', ') = ', -13.471520125297513, 'std dev = ', 7.7867633211993486)\n",
      "-------------------------------\n",
      "()\n",
      "('LSOA: ', 'E01004714')\n",
      "('avg(', 'ev', ') = ', 0.2047429819412397, 'std dev = ', 0.2939754649449989)\n",
      "('avg(', 'mae', ') = ', 0.10527093696032738, 'std dev = ', 0.026302783901696256)\n",
      "('avg(', 'corr', ') = ', 0.39511638738097704, 'std dev = ', 0.29133612001394865)\n",
      "('avg(', 'r2', ') = ', -0.30800382213405697, 'std dev = ', 0.27452406209888824)\n",
      "-------------------------------\n",
      "()\n",
      "('LSOA: ', 'E01002444')\n",
      "('avg(', 'ev', ') = ', 0.06417859176886657, 'std dev = ', 0.20091444997448885)\n",
      "('avg(', 'mae', ') = ', 0.29535686969477026, 'std dev = ', 0.09020076317907934)\n",
      "('avg(', 'corr', ') = ', nan, 'std dev = ', nan)\n",
      "('avg(', 'r2', ') = ', -8.528424473277969, 'std dev = ', 3.520683710278215)\n",
      "-------------------------------\n",
      "()\n"
     ]
    }
   ],
   "source": [
    "from sklearn.dummy import *\n",
    "\n",
    "warnings.filterwarnings('ignore')\n",
    "\n",
    "ranges = {\n",
    "    \"train\":[\"2011-01-01\", \"2016-12-01\"],\n",
    "    \"test\": [\"2017-01-01\", \"2017-02-02\"]\n",
    "    }\n",
    "\n",
    "#Parameters\n",
    "alg_str = 'random_forest'\n",
    "number_folds = 6\n",
    "prev_obs = 9\n",
    "to_predict = 1\n",
    "param = {'n_jobs': -1, 'bootstrap': True, 'n_estimators': 5, 'criterion': 'mse', 'min_samples_split': 0.25, 'max_depth': None}\n",
    "\n",
    "regr_rf = u.RandomForestRegressor(**param)\n",
    "\n",
    "ls_model=u.get_lsoa_ts(series, u.critic_lsoa[0])['value']\n",
    "ls_model_norm, scaler_model = u.normalize_data(ls_model)\n",
    "ls_model_norm=pd.Series(index=ls_model.index, data=ls_model_norm)\n",
    "\n",
    "dic={}\n",
    "for i in range(1,len(u.critic_lsoa)):\n",
    "    dic[u.critic_lsoa[i]]=({'ev':np.zeros(number_folds-1),\n",
    "                         'mae':np.zeros(number_folds-1),\n",
    "                         'r2':np.zeros(number_folds-1),\n",
    "                          'corr':np.zeros(number_folds-1)})\n",
    "    \n",
    "dic2={}\n",
    "for i in range(1,len(u.critic_lsoa)):\n",
    "    dic2[u.critic_lsoa[i]]=({'ev':np.zeros(number_folds-1),\n",
    "                         'mae':np.zeros(number_folds-1),\n",
    "                         'r2':np.zeros(number_folds-1)})    \n",
    "    \n",
    "    \n",
    "for i in range(2, number_folds + 1):\n",
    "    \n",
    "    d = u.train_test(ls_model_norm, ranges, prev_obs, to_predict)\n",
    "    X_train=np.array(d['train']['x'])\n",
    "    y_train=np.array(d['train']['y'])\n",
    "    \n",
    "    k = int(np.floor(float(X_train.shape[0]) / number_folds))\n",
    "    \n",
    "    split = float(i-1)/i\n",
    "    X = X_train[:(k*i)]\n",
    "    y = y_train[:(k*i)]\n",
    "    \n",
    "    index = int(np.floor(X.shape[0] * split))\n",
    "        \n",
    "    x_trainFolds = X[:index]        \n",
    "    y_trainFolds = y[:index]\n",
    "    \n",
    "    for l in range(1,len(u.critic_lsoa)):\n",
    "    \n",
    "        #Get the LSOA time series and normalize\n",
    "        ts = u.get_lsoa_ts(series, u.critic_lsoa[l])['value']\n",
    "        ts_norm, scaler_ = u.normalize_data(ts)\n",
    "        ts_norm =pd.Series(index=ts.index, data=ts_norm)\n",
    "    \n",
    "        lsoa_ = u.train_test(ts_norm, ranges, prev_obs, to_predict)\n",
    "        X_train_l=np.array(lsoa_['train']['x'])\n",
    "        y_train_l= np.array(lsoa_['train']['y'])\n",
    "    \n",
    "        X_l = X_train_l[:(k*i)]\n",
    "        y_l = y_train_l[:(k*i)]\n",
    "        \n",
    "        x_testFold = X_l[(index + 1):]\n",
    "        y_testFold = y_l[(index + 1):]\n",
    "        \n",
    "        regr_rf.fit(x_trainFolds, y_trainFolds)      \n",
    "        y_pred = regr_rf.predict(x_testFold)\n",
    "        \n",
    "        dummy  = DummyRegressor(strategy='mean')\n",
    "        dummy.fit(x_trainFolds, y_trainFolds)\n",
    "        y_avg = dummy.predict(x_testFold)\n",
    "        \n",
    "        \n",
    "        \n",
    "        ss = u.print_scores(np.array(y_testFold).reshape(-1), np.array(y_pred).reshape(-1), ret_scores=True)\n",
    "                          \n",
    "        dic[u.critic_lsoa[l]]['ev'][i-2]=ss[0]\n",
    "        dic[u.critic_lsoa[l]]['mae'][i-2]=ss[1]\n",
    "        dic[u.critic_lsoa[l]]['r2'][i-2]=ss[2]\n",
    "        dic[u.critic_lsoa[l]]['corr'][i-2]=ss[3]\n",
    "        \n",
    "        ss2 = u.print_scores(np.array(y_testFold).reshape(-1), np.array(y_avg).reshape(-1), ret_scores=True)\n",
    "                          \n",
    "        dic2[u.critic_lsoa[l]]['ev'][i-2]=ss2[0]\n",
    "        dic2[u.critic_lsoa[l]]['mae'][i-2]=ss2[1]\n",
    "        dic2[u.critic_lsoa[l]]['r2'][i-2]=ss2[2]\n",
    "        \n",
    "\n",
    "\n",
    "for name in dic.keys():\n",
    "    print('LSOA: ',name)\n",
    "    for measure in dic[name].keys():\n",
    "        print('avg(', measure,') = ', dic[name][measure].mean(), 'std dev = ',   dic[name][measure].std())\n",
    "    print('-------------------------------')\n",
    "    print()"
   ]
  },
  {
   "cell_type": "markdown",
   "metadata": {},
   "source": [
    "These plots are the first step towards our assumption evaluation: on the x-axis we have the LSOA belonging to the same cluster as the reference one; on the y-axis there's the score of the random forest tested on the specific LSOA. The green rectangle between the two dashed line represent our *goodness interval*: the red line is the score of the model on the reference LSOA, while the yellow one is the dummy regressor score; hence each point that falls in this range of values represents a good score for us because it's better than the dummy but still lower than the reference one."
   ]
  },
  {
   "cell_type": "markdown",
   "metadata": {},
   "source": [
    "#### EV (EXPLAINED VARIANCE)"
   ]
  },
  {
   "cell_type": "code",
   "execution_count": 184,
   "metadata": {},
   "outputs": [
    {
     "data": {
      "image/png": "[encoded data removed]",
      "text/plain": [
       "<Figure size 720x432 with 1 Axes>"
      ]
     },
     "metadata": {
      "needs_background": "light"
     },
     "output_type": "display_data"
    }
   ],
   "source": [
    "plot_score_lsoa(dic, dic2, \"ev\", \"EV\",\"EV\")"
   ]
  },
  {
   "cell_type": "markdown",
   "metadata": {},
   "source": [
    "#### MAE (MEAN ABSOLUTE ERROR)"
   ]
  },
  {
   "cell_type": "code",
   "execution_count": 182,
   "metadata": {},
   "outputs": [
    {
     "data": {
      "image/png": "[encoded data removed]",
      "text/plain": [
       "<Figure size 720x432 with 1 Axes>"
      ]
     },
     "metadata": {
      "needs_background": "light"
     },
     "output_type": "display_data"
    }
   ],
   "source": [
    "plot_score_lsoa(dic, dic2, \"mae\", \"MAE\", \"MAE\")"
   ]
  },
  {
   "cell_type": "markdown",
   "metadata": {},
   "source": [
    "#### R2\n",
    "\n",
    "The majority are above the average but *R2* is still very low."
   ]
  },
  {
   "cell_type": "code",
   "execution_count": 185,
   "metadata": {},
   "outputs": [
    {
     "data": {
      "image/png": "[encoded data removed]",
      "text/plain": [
       "<Figure size 720x432 with 1 Axes>"
      ]
     },
     "metadata": {
      "needs_background": "light"
     },
     "output_type": "display_data"
    }
   ],
   "source": [
    "plot_score_lsoa(dic, dic2, \"r2\", \"R2\",\"R2\")"
   ]
  },
  {
   "cell_type": "markdown",
   "metadata": {},
   "source": [
    "#### Correlation"
   ]
  },
  {
   "cell_type": "code",
   "execution_count": 188,
   "metadata": {},
   "outputs": [
    {
     "data": {
      "image/png": "[encoded data removed]",
      "text/plain": [
       "<Figure size 720x432 with 1 Axes>"
      ]
     },
     "metadata": {
      "needs_background": "light"
     },
     "output_type": "display_data"
    }
   ],
   "source": [
    "plot_score_lsoa(dic, dic2, \"corr\", \"Corr\",\"Corr\")"
   ]
  },
  {
   "cell_type": "markdown",
   "metadata": {},
   "source": [
    "As we can see the majority of LSOA has a score withing the goodness interval, and in some case the model behaves better than the reference-LSOA execution. So these plots confirmed that the model is quite stable with the respect to elements of the same cluster."
   ]
  },
  {
   "cell_type": "markdown",
   "metadata": {},
   "source": [
    "<a id='null'></a> \n",
    "### 3.B.a Null model [to top](#top)\n",
    "\n",
    "As further evaluation of our assumption, we use two null models: we first try to randomize the data and then we also tried to train the model as before, on the reference LSOA, and test it on LSOAs from other clusters. In both cases we expect a critical degradation of performances."
   ]
  },
  {
   "cell_type": "code",
   "execution_count": 2,
   "metadata": {
    "scrolled": true
   },
   "outputs": [
    {
     "data": {
      "text/html": [
       "<div>\n",
       "<style scoped>\n",
       "    .dataframe tbody tr th:only-of-type {\n",
       "        vertical-align: middle;\n",
       "    }\n",
       "\n",
       "    .dataframe tbody tr th {\n",
       "        vertical-align: top;\n",
       "    }\n",
       "\n",
       "    .dataframe thead th {\n",
       "        text-align: right;\n",
       "    }\n",
       "</style>\n",
       "<table border=\"1\" class=\"dataframe\">\n",
       "  <thead>\n",
       "    <tr style=\"text-align: right;\">\n",
       "      <th></th>\n",
       "      <th>lsoa_code</th>\n",
       "      <th>borough</th>\n",
       "      <th>Burglary</th>\n",
       "      <th>Criminal Damage</th>\n",
       "      <th>Drugs</th>\n",
       "      <th>Fraud or Forgery</th>\n",
       "      <th>Other Notifiable Offences</th>\n",
       "      <th>Robbery</th>\n",
       "      <th>Sexual Offences</th>\n",
       "      <th>Theft and Handling</th>\n",
       "      <th>Violence Against the Person</th>\n",
       "      <th>value</th>\n",
       "      <th>month</th>\n",
       "    </tr>\n",
       "  </thead>\n",
       "  <tbody>\n",
       "    <tr>\n",
       "      <th>0</th>\n",
       "      <td>E01000006</td>\n",
       "      <td>Barking and Dagenham</td>\n",
       "      <td>1.0</td>\n",
       "      <td>1.0</td>\n",
       "      <td>0.0</td>\n",
       "      <td>0.0</td>\n",
       "      <td>0.0</td>\n",
       "      <td>2.0</td>\n",
       "      <td>0.0</td>\n",
       "      <td>7.0</td>\n",
       "      <td>5.0</td>\n",
       "      <td>16.0</td>\n",
       "      <td>2008-1</td>\n",
       "    </tr>\n",
       "    <tr>\n",
       "      <th>1</th>\n",
       "      <td>E01000007</td>\n",
       "      <td>Barking and Dagenham</td>\n",
       "      <td>0.0</td>\n",
       "      <td>1.0</td>\n",
       "      <td>6.0</td>\n",
       "      <td>1.0</td>\n",
       "      <td>0.0</td>\n",
       "      <td>0.0</td>\n",
       "      <td>1.0</td>\n",
       "      <td>10.0</td>\n",
       "      <td>10.0</td>\n",
       "      <td>29.0</td>\n",
       "      <td>2008-1</td>\n",
       "    </tr>\n",
       "  </tbody>\n",
       "</table>\n",
       "</div>"
      ],
      "text/plain": [
       "   lsoa_code               borough  Burglary  Criminal Damage  Drugs  \\\n",
       "0  E01000006  Barking and Dagenham       1.0              1.0    0.0   \n",
       "1  E01000007  Barking and Dagenham       0.0              1.0    6.0   \n",
       "\n",
       "   Fraud or Forgery  Other Notifiable Offences  Robbery  Sexual Offences  \\\n",
       "0               0.0                        0.0      2.0              0.0   \n",
       "1               1.0                        0.0      0.0              1.0   \n",
       "\n",
       "   Theft and Handling  Violence Against the Person  value   month  \n",
       "0                 7.0                          5.0   16.0  2008-1  \n",
       "1                10.0                         10.0   29.0  2008-1  "
      ]
     },
     "execution_count": 2,
     "metadata": {},
     "output_type": "execute_result"
    }
   ],
   "source": [
    "series = pd.read_csv('data\\LC_ts.csv')\n",
    "series.rename(columns={'period':'month'}, inplace=True)\n",
    "series.head(2)"
   ]
  },
  {
   "cell_type": "markdown",
   "metadata": {},
   "source": [
    "#### Shuffle null model\n",
    "We first tried to shuffle the values of the reference time series and cross validate the model with such randomly-shuffled values."
   ]
  },
  {
   "cell_type": "code",
   "execution_count": 3,
   "metadata": {},
   "outputs": [
    {
     "name": "stdout",
     "output_type": "stream",
     "text": [
      "avg(ev) =  -0.6605705682066436  std dev =  0.3179098375747915\n",
      "avg(mae) =  0.1402619754579722  std dev =  0.023477330498565038\n",
      "avg(r2) =  -1.0042816143646935  std dev =  0.3032902280209291\n",
      "avg(corr) =  -0.2591200186611181  std dev =  0.18098441752345334\n",
      "-------------------------------\n",
      "\n"
     ]
    }
   ],
   "source": [
    "import warnings\n",
    "warnings.filterwarnings('ignore')\n",
    "\n",
    "ranges = {\n",
    "    \"train\":[\"2011-01-01\", \"2016-12-01\"],\n",
    "    \"test\": [\"2017-01-01\", \"2017-02-02\"]\n",
    "    }\n",
    "\n",
    "alg_str = 'random_forest'\n",
    "number_folds = 6\n",
    "\n",
    "prev_obs = 9\n",
    "to_predict = 1\n",
    "param = {'n_jobs': -1, 'bootstrap': True, 'n_estimators': 5, 'criterion': 'mse', 'min_samples_split': 0.25, 'max_depth': None}\n",
    "\n",
    "regr_rf = u.RandomForestRegressor(**param)\n",
    "\n",
    "ls_model=u.get_lsoa_ts(series, u.critic_lsoa[0])['value']\n",
    "ls_model_norm, scaler_model = u.normalize_data(ls_model)\n",
    "ls_model_norm=pd.Series(index=ls_model.index, data=ls_model_norm)\n",
    "\n",
    "ts = series[series['lsoa_code']==u.critic_lsoa[0]].copy()\n",
    "values=ts['value'].values\n",
    "\n",
    "# shuffle values\n",
    "u.random.shuffle(values)\n",
    "\n",
    "\n",
    "ts['value']=values\n",
    "ts.month = pd.to_datetime(ts.month)\n",
    "ts = ts.groupby(['month'], as_index=True).aggregate(np.sum)['value']\n",
    "\n",
    "ts_norm, scaler_ = u.normalize_data(ts)\n",
    "\n",
    "ts_norm = pd.Series(index=ts.index, data=ts_norm)\n",
    "to_predict = 1\n",
    "\n",
    "acc = np.zeros(number_folds-1)\n",
    "acc1 = np.zeros(number_folds-1)\n",
    "acc2 = np.zeros(number_folds-1)\n",
    "acc3 = np.zeros(number_folds-1)\n",
    "\n",
    "\n",
    "#Set random forest best parameters and prepare the data for regression\n",
    "\n",
    "d = u.train_test(ls_model_norm, ranges, prev_obs, to_predict)\n",
    "X_train=np.array(d['train']['x'])\n",
    "y_train=np.array(d['train']['y'])\n",
    "\n",
    "lsoa_ = u.train_test(ts_norm, ranges, prev_obs, to_predict)\n",
    "X_train_l=np.array(lsoa_['train']['x'])\n",
    "y_train_l= np.array(lsoa_['train']['y'])\n",
    "\n",
    "k = int(np.floor(float(X_train.shape[0]) / number_folds))\n",
    "\n",
    "for i in range(2, number_folds + 1):\n",
    "    split = float(i-1)/i\n",
    "    X = X_train[:(k*i)]\n",
    "    y = y_train[:(k*i)]\n",
    "\n",
    "    X_l = X_train_l[:(k*i)]\n",
    "    y_l = y_train_l[:(k*i)]\n",
    "\n",
    "    index = int(np.floor(X.shape[0] * split))\n",
    "\n",
    "    x_trainFolds = X[:index]        \n",
    "    y_trainFolds = y[:index]\n",
    "\n",
    "    x_testFold = X_l[(index + 1):]\n",
    "    y_testFold = y_l[(index + 1):]\n",
    "\n",
    "    regr_rf.fit(x_trainFolds, y_trainFolds)\n",
    "    y_pred = regr_rf.predict(x_testFold)\n",
    "\n",
    "    ss = u.print_scores(np.array(y_testFold).reshape(-1), np.array(y_pred).reshape(-1), ret_scores=True)\n",
    "\n",
    "    acc[i-2]=ss[0]\n",
    "    acc1[i-2]=ss[1]\n",
    "    acc2[i-2]=ss[2]\n",
    "    acc3[i-2]=ss[3]\n",
    "\n",
    "print('avg(ev) = ', acc.mean(), \" std dev = \", acc.std())\n",
    "print('avg(mae) = ', acc1.mean(), \" std dev = \", acc1.std())\n",
    "print('avg(r2) = ', acc2.mean(), \" std dev = \", acc2.std())\n",
    "print('avg(corr) = ', acc3.mean(), \" std dev = \", acc3.std())\n",
    "print('-------------------------------')\n",
    "print()\n"
   ]
  },
  {
   "cell_type": "markdown",
   "metadata": {},
   "source": [
    "Model | EV | MAE | R2 | Corr\n",
    "------------ | ------------- | ------------ | ------------- | -------------\n",
    "RF on reference LSOA  |  0.13 | 0.113 | -0.255 | 0.47 \n",
    "RF on shuffled data   | -0.66 | 0.14 | -1.004 | -0.25         \n",
    "\n",
    "The table above shows how randomizing the data led to a critical performance degradation."
   ]
  },
  {
   "cell_type": "markdown",
   "metadata": {},
   "source": [
    "#### Different cluster null model\n",
    "We propose another null model in which we collect the performance of the RF trained on the reference LSOA and tested on LSOA belonging the another cluster, that is the cluster with least dangerous LSOAS. In this way we will see whether the proposed model behaves better on the reference LSOA's cluster, thus validating our assumption.\n",
    "\n",
    "The values of the LSOA crimes of this cluster are much lower than the reference LSOA. Therefore to perform this evaluation we normalized the data with the same scaler used to normalize the data of the reference LSOA."
   ]
  },
  {
   "cell_type": "code",
   "execution_count": 5,
   "metadata": {},
   "outputs": [],
   "source": [
    "import pickle\n",
    "k=pickle.load(open('data/km2.p','rb'))\n",
    "j=k['Burglary_value,Drugs_value,Other Notifiable Offences_value']"
   ]
  },
  {
   "cell_type": "code",
   "execution_count": 7,
   "metadata": {},
   "outputs": [],
   "source": [
    "df=series\n",
    "df=df.groupby(\"lsoa_code\", as_index=False).agg({\n",
    "            'Burglary':np.sum,\n",
    "            'Criminal Damage':np.sum,\n",
    "            'Drugs':np.sum,\n",
    "            'Other Notifiable Offences':np.sum,\n",
    "            'Robbery':np.sum,\n",
    "            'Theft and Handling':np.sum,\n",
    "            'Violence Against the Person':np.sum})"
   ]
  },
  {
   "cell_type": "code",
   "execution_count": 8,
   "metadata": {},
   "outputs": [],
   "source": [
    "df['Lab']=j['Labels'][2]"
   ]
  },
  {
   "cell_type": "code",
   "execution_count": 9,
   "metadata": {},
   "outputs": [],
   "source": [
    "cluster0=df[df['Lab']==2]"
   ]
  },
  {
   "cell_type": "code",
   "execution_count": 10,
   "metadata": {},
   "outputs": [
    {
     "data": {
      "text/plain": [
       "258749"
      ]
     },
     "execution_count": 10,
     "metadata": {},
     "output_type": "execute_result"
    }
   ],
   "source": [
    "s0_=series[series['lsoa_code'].isin(cluster0['lsoa_code'].values)]\n",
    "len(s0_)"
   ]
  },
  {
   "cell_type": "code",
   "execution_count": 11,
   "metadata": {
    "scrolled": false
   },
   "outputs": [
    {
     "data": {
      "text/plain": [
       "['E01000007',\n",
       " 'E01000008',\n",
       " 'E01000011',\n",
       " 'E01000012',\n",
       " 'E01000014',\n",
       " 'E01000016',\n",
       " 'E01000017',\n",
       " 'E01000025',\n",
       " 'E01000028',\n",
       " 'E01000033',\n",
       " 'E01000036',\n",
       " 'E01000039',\n",
       " 'E01000046',\n",
       " 'E01000048',\n",
       " 'E01000050']"
      ]
     },
     "execution_count": 11,
     "metadata": {},
     "output_type": "execute_result"
    }
   ],
   "source": [
    "smallest=[]\n",
    "a=0\n",
    "lscount=list(s0_['lsoa_code'].values)\n",
    "for index, row in s0_.iterrows():\n",
    "    crimes=s0_[s0_['lsoa_code']==row['lsoa_code']]['value'].unique()\n",
    "    if((a not in crimes) and (lscount.count(row['lsoa_code'])==108)):\n",
    "        smallest.append(row['lsoa_code'])\n",
    "    if(len(smallest)==15):\n",
    "        break;\n",
    "smallest"
   ]
  },
  {
   "cell_type": "code",
   "execution_count": 12,
   "metadata": {},
   "outputs": [],
   "source": [
    "smallestdf=series[series['lsoa_code'].isin(smallest)]"
   ]
  },
  {
   "cell_type": "code",
   "execution_count": 16,
   "metadata": {
    "scrolled": true
   },
   "outputs": [
    {
     "name": "stdout",
     "output_type": "stream",
     "text": [
      "LSOA:  E01000007\n",
      "avg( ev ) =  2.4424906541753446e-16 std dev =  2.472584076520522e-16\n",
      "avg( mae ) =  0.6353066137566137 std dev =  0.11460746496815573\n",
      "avg( r2 ) =  -240.24952467019276 std dev =  209.8966097716301\n",
      "avg( corr ) =  nan std dev =  nan\n",
      "-------------------------------\n",
      "\n",
      "LSOA:  E01000008\n",
      "avg( ev ) =  -1.7763568394002506e-16 std dev =  6.793258640404412e-16\n",
      "avg( mae ) =  0.7528992063492064 std dev =  0.10811486300848085\n",
      "avg( r2 ) =  -657.4662010112818 std dev =  399.152819913434\n",
      "avg( corr ) =  nan std dev =  nan\n",
      "-------------------------------\n",
      "\n",
      "LSOA:  E01000011\n",
      "avg( ev ) =  -1.1102230246251565e-16 std dev =  8.308148362110449e-16\n",
      "avg( mae ) =  0.8049362433862435 std dev =  0.08179623232728321\n",
      "avg( r2 ) =  -895.3202943072062 std dev =  371.35474216257404\n",
      "avg( corr ) =  nan std dev =  nan\n",
      "-------------------------------\n",
      "\n",
      "LSOA:  E01000012\n",
      "avg( ev ) =  -4.4408920985006264e-17 std dev =  4.945168153041044e-16\n",
      "avg( mae ) =  0.7701214285714286 std dev =  0.08131374130102134\n",
      "avg( r2 ) =  -665.348206620997 std dev =  306.78859538873184\n",
      "avg( corr ) =  nan std dev =  nan\n",
      "-------------------------------\n",
      "\n",
      "LSOA:  E01000014\n",
      "avg( ev ) =  1.6431300764452318e-15 std dev =  3.712463614682655e-15\n",
      "avg( mae ) =  0.7869732804232805 std dev =  0.086213938546261\n",
      "avg( r2 ) =  -1521.9517569432232 std dev =  1895.7335113870756\n",
      "avg( corr ) =  nan std dev =  nan\n",
      "-------------------------------\n",
      "\n",
      "LSOA:  E01000016\n",
      "avg( ev ) =  -2.220446049250313e-16 std dev =  1.8079940199042604e-15\n",
      "avg( mae ) =  0.8047510582010583 std dev =  0.08397975835530297\n",
      "avg( r2 ) =  -1710.3875225864927 std dev =  304.26561890457066\n",
      "avg( corr ) =  nan std dev =  nan\n",
      "-------------------------------\n",
      "\n",
      "LSOA:  E01000017\n",
      "avg( ev ) =  9.103828801926283e-16 std dev =  1.111110848057422e-15\n",
      "avg( mae ) =  0.8056769841269842 std dev =  0.08814098037623999\n",
      "avg( r2 ) =  -1185.8259887013196 std dev =  454.86441234247945\n",
      "avg( corr ) =  nan std dev =  nan\n",
      "-------------------------------\n",
      "\n",
      "LSOA:  E01000025\n",
      "avg( ev ) =  9.103828801926283e-16 std dev =  2.4277102459174335e-15\n",
      "avg( mae ) =  0.808454761904762 std dev =  0.08451679561777412\n",
      "avg( r2 ) =  -1587.7835759328004 std dev =  485.4467635839795\n",
      "avg( corr ) =  nan std dev =  nan\n",
      "-------------------------------\n",
      "\n",
      "LSOA:  E01000028\n",
      "avg( ev ) =  -5.551115123125783e-16 std dev =  1.1874716283274134e-15\n",
      "avg( mae ) =  0.8032695767195769 std dev =  0.09439349735707152\n",
      "avg( r2 ) =  -947.6268430016547 std dev =  479.90396655832654\n",
      "avg( corr ) =  nan std dev =  nan\n",
      "-------------------------------\n",
      "\n",
      "LSOA:  E01000033\n",
      "avg( ev ) =  1.554312234475219e-16 std dev =  7.679020293323272e-16\n",
      "avg( mae ) =  0.7988251322751324 std dev =  0.09103265683584771\n",
      "avg( r2 ) =  -829.9344205558518 std dev =  149.05080545589547\n",
      "avg( corr ) =  nan std dev =  nan\n",
      "-------------------------------\n",
      "\n",
      "LSOA:  E01000036\n",
      "avg( ev ) =  -1.1102230246251565e-15 std dev =  1.0877919644084146e-15\n",
      "avg( mae ) =  0.8099362433862434 std dev =  0.08680205344369098\n",
      "avg( r2 ) =  -1332.7101960454681 std dev =  875.0780581755243\n",
      "avg( corr ) =  nan std dev =  nan\n",
      "-------------------------------\n",
      "\n",
      "LSOA:  E01000039\n",
      "avg( ev ) =  4.662936703425658e-16 std dev =  2.1532603118147368e-15\n",
      "avg( mae ) =  0.825491798941799 std dev =  0.09398009131596978\n",
      "avg( r2 ) =  -2718.231736634951 std dev =  1428.7891782123631\n",
      "avg( corr ) =  nan std dev =  nan\n",
      "-------------------------------\n",
      "\n",
      "LSOA:  E01000046\n",
      "avg( ev ) =  8.881784197001252e-16 std dev =  1.4778899253092824e-15\n",
      "avg( mae ) =  0.8062325396825397 std dev =  0.08574335288952631\n",
      "avg( r2 ) =  -1366.2098845289813 std dev =  682.5378800952749\n",
      "avg( corr ) =  nan std dev =  nan\n",
      "-------------------------------\n",
      "\n",
      "LSOA:  E01000048\n",
      "avg( ev ) =  -8.881784197001253e-17 std dev =  1.1567650195615103e-15\n",
      "avg( mae ) =  0.7975288359788361 std dev =  0.09812484983317371\n",
      "avg( r2 ) =  -846.0718090635179 std dev =  329.4874007789765\n",
      "avg( corr ) =  nan std dev =  nan\n",
      "-------------------------------\n",
      "\n",
      "LSOA:  E01000050\n",
      "avg( ev ) =  -1.3322676295501878e-16 std dev =  4.984889017266269e-16\n",
      "avg( mae ) =  0.7812325396825398 std dev =  0.09171384158117757\n",
      "avg( r2 ) =  -974.4087461783178 std dev =  380.52628284666577\n",
      "avg( corr ) =  nan std dev =  nan\n",
      "-------------------------------\n",
      "\n"
     ]
    }
   ],
   "source": [
    "import warnings\n",
    "warnings.filterwarnings('ignore')\n",
    "\n",
    "ranges = {\n",
    "    \"train\":[\"2011-01-01\", \"2016-12-01\"],\n",
    "    \"test\": [\"2017-01-01\", \"2017-02-02\"]\n",
    "    }\n",
    "\n",
    "alg_str = 'random_forest'\n",
    "number_folds = 6\n",
    "\n",
    "prev_obs = 9\n",
    "to_predict = 1\n",
    "param = {'n_jobs': -1, 'bootstrap': True, 'n_estimators': 5, 'criterion': 'mse', 'min_samples_split': 0.25, 'max_depth': None}\n",
    "\n",
    "regr_rf = u.RandomForestRegressor(**param)\n",
    "\n",
    "ls_model=u.get_lsoa_ts(series, u.critic_lsoa[0])['value']\n",
    "ls_model_norm, scaler_model = u.normalize_data(ls_model)\n",
    "ls_model_norm=pd.Series(index=ls_model.index, data=ls_model_norm)\n",
    "\n",
    "dic={}\n",
    "for i in range(0,len(smallest)):\n",
    "    dic[smallest[i]]=({'ev':np.zeros(number_folds-1),\n",
    "                         'mae':np.zeros(number_folds-1),\n",
    "                         'r2':np.zeros(number_folds-1),\n",
    "                          'corr':np.zeros(number_folds-1)})\n",
    "\n",
    "for i in range(2, number_folds + 1):   \n",
    "    \n",
    "    d = u.train_test(ls_model_norm, ranges, prev_obs, to_predict)\n",
    "    X_train=np.array(d['train']['x'])\n",
    "    y_train=np.array(d['train']['y'])\n",
    "\n",
    "    k = int(np.floor(float(X_train.shape[0]) / number_folds))\n",
    "    \n",
    "    split = float(i-1)/i\n",
    "    X = X_train[:(k*i)]\n",
    "    y = y_train[:(k*i)]\n",
    "    \n",
    "    index = int(np.floor(X.shape[0] * split))\n",
    "        \n",
    "    x_trainFolds = X[:index]        \n",
    "    y_trainFolds = y[:index]\n",
    "    \n",
    "    regr_rf.fit(x_trainFolds, y_trainFolds)\n",
    "    for l in range(0,len(smallest)):\n",
    "    \n",
    "        #Get the LSOA time series and normalize\n",
    "        ts = u.get_lsoa_ts(smallestdf, smallest[l])['value']\n",
    "        \n",
    "        ts_norm=ts.values.reshape(-1, 1)\n",
    "        ts_norm=scaler_model.transform(ts_norm).reshape(1, -1)[0]\n",
    "        \n",
    "        #ts_norm, scaler_ = u.normalize_data(ts)\n",
    "        ts_norm = pd.Series(index=ts.index, data=ts_norm)\n",
    "    \n",
    "        lsoa_ = u.train_test(ts_norm, ranges, prev_obs, to_predict)\n",
    "        X_train_l=np.array(lsoa_['train']['x'])\n",
    "        y_train_l= np.array(lsoa_['train']['y'])\n",
    "    \n",
    "        X_l = X_train_l[:(k*i)]\n",
    "        y_l = y_train_l[:(k*i)]\n",
    "        \n",
    "        x_testFold = X_l[(index + 1):]\n",
    "        y_testFold = y_l[(index + 1):]\n",
    "        \n",
    "        y_pred = regr_rf.predict(x_testFold)\n",
    "        \n",
    "        ss = u.print_scores(np.array(y_testFold).reshape(-1), np.array(y_pred).reshape(-1), ret_scores=True)\n",
    "                          \n",
    "        dic[smallest[l]]['ev'][i-2]=ss[0]\n",
    "        dic[smallest[l]]['mae'][i-2]=ss[1]\n",
    "        dic[smallest[l]]['r2'][i-2]=ss[2]\n",
    "        dic[smallest[l]]['corr'][i-2]=ss[3]\n",
    "\n",
    "\n",
    "for name in dic.keys():\n",
    "    print('LSOA: ',name)\n",
    "    for measure in dic[name].keys():\n",
    "        print('avg(', measure,') = ', dic[name][measure].mean(), 'std dev = ',   dic[name][measure].std())\n",
    "    print('-------------------------------')\n",
    "    print()\n"
   ]
  },
  {
   "cell_type": "markdown",
   "metadata": {},
   "source": [
    "Model | EV | MAE | R2 | Corr\n",
    "------------ | ------------- | ------------ | ------------- | -------------\n",
    "RF on reference LSOA  |  0.13 | 0.113 | -0.255 | 0.47 \n",
    "RF on a test cluster   | 0 | 0.635 | -240 |  "
   ]
  },
  {
   "cell_type": "markdown",
   "metadata": {},
   "source": [
    "As expected the results obtained are very poor, so the model is more suitable for the prediction of crime values of similar LSOA, in our case belonging to the same cluster."
   ]
  },
  {
   "cell_type": "markdown",
   "metadata": {},
   "source": [
    "<a id='lstm'></a> \n",
    "### 3.C LSTM [to top](#top)\n",
    "\n",
    "After regression with the classic techniques, we tried a neural network approach. In particular we decided to use LSTM neural network as it is very suitable for predicting time series.\n",
    "The approach used is the same: to build the model on a dangerous LSOA in order to predict crimes in the LSOA belonging to the same cluster.\n",
    "We set parameters for the neural network and we decided to change only the number of observations useful to make the prediction to the next step. For each execution, we calculated the relative scores."
   ]
  },
  {
   "cell_type": "code",
   "execution_count": 3,
   "metadata": {},
   "outputs": [
    {
     "name": "stderr",
     "output_type": "stream",
     "text": [
      "C:\\Users\\madda\\Anaconda3\\lib\\site-packages\\pandas\\core\\generic.py:4401: SettingWithCopyWarning: \n",
      "A value is trying to be set on a copy of a slice from a DataFrame.\n",
      "Try using .loc[row_indexer,col_indexer] = value instead\n",
      "\n",
      "See the caveats in the documentation: http://pandas.pydata.org/pandas-docs/stable/indexing.html#indexing-view-versus-copy\n",
      "  self[name] = value\n"
     ]
    }
   ],
   "source": [
    "data=u.get_lsoa_ts(series, u.critic_lsoa[0])['value']"
   ]
  },
  {
   "cell_type": "code",
   "execution_count": 4,
   "metadata": {},
   "outputs": [
    {
     "name": "stdout",
     "output_type": "stream",
     "text": [
      "Obs:  2\n",
      "Obs:  3\n",
      "Obs:  4\n",
      "Obs:  5\n",
      "Obs:  6\n",
      "Obs:  7\n",
      "Obs:  8\n",
      "Obs:  9\n",
      "Obs:  10\n",
      "Obs:  11\n",
      "Obs:  12\n"
     ]
    }
   ],
   "source": [
    "obs_scores=[]\n",
    "neurons=10\n",
    "epochs=50\n",
    "batch=2\n",
    "verbose=0\n",
    "for obs in range (2,13):\n",
    "    obs_scores.append(u.lstm(data,neurons, obs, epochs, batch, verbose,plot=False))"
   ]
  },
  {
   "cell_type": "markdown",
   "metadata": {},
   "source": [
    "|     Score     | **2**     | **3** | **4** | **5** | **6** | **7** | **8** | **9** | **10**    | **11** | **12** \n",
    "----------|-----------|-------|-------|-------|-------|-------|-------|-------|-----------|--------|--------\n",
    " **EV**   | **0.226** | 0.218 | 0.242 | 0.21  | 0.228 | 0.143 | 0.168 | 0.177 | **0.23**  | 0.201  | 0.136   \n",
    " **MAE**  | **0.127** | 0.129 | 0.127 | 0.13  | 0.128 | 0.126 | 0.126 | 0.123 | **0.119** | 0.122  | 0.127  \n",
    " **R2**   | **0.209** | 0.204 | 0.227 | 0.2   | 0.226 | 0.139 | 0.167 | 0.174 | **0.229** | 0.201  | 0.115  \n",
    " **CORR** | **0.609** | 0.55  | 0.563 | 0.512 | 0.529 | 0.379 | 0.412 | 0.425 | **0.518** | 0.47   | 0.373\n",
    "\n",
    "In the table above we can notice that that the number of observations to be made to have better performances is 2 or 10. These results coincide with the previous analyzes:\n",
    "- During the phase of data understanding, studying the progress of crimes over the years, we have seen that their trend is repeated every 2 months;\n",
    "- With the classic regression techniques we have obtained that the best prediction is carried out by the Random Forest which requires many observations, more precisely 9.\n",
    "\n",
    "LSTM is the best prediction tool among those used"
   ]
  },
  {
   "cell_type": "code",
   "execution_count": 8,
   "metadata": {},
   "outputs": [
    {
     "name": "stdout",
     "output_type": "stream",
     "text": [
      "Obs:  10\n"
     ]
    },
    {
     "data": {
      "image/png": "[encoded data removed]",
      "text/plain": [
       "<Figure size 432x288 with 1 Axes>"
      ]
     },
     "metadata": {},
     "output_type": "display_data"
    },
    {
     "data": {
      "text/plain": [
       "[0.23573744297027588, 0.116309635, 0.23566887226427324, 0.50842255]"
      ]
     },
     "execution_count": 8,
     "metadata": {},
     "output_type": "execute_result"
    }
   ],
   "source": [
    "u.lstm(data,neurons, 10, epochs, batch, verbose,plot=True)"
   ]
  },
  {
   "cell_type": "markdown",
   "metadata": {},
   "source": [
    "The table below shows the comparisons between LSTM with 10 observarion and the best result obtained with Random Forest."
   ]
  },
  {
   "cell_type": "markdown",
   "metadata": {},
   "source": [
    "Model  |   EV  |  MAE  |   R2   |  CORR \n",
    ":-----------------:|:-----:|:-----:|:------:|:-----:\n",
    " **Random Forest** | 0.134 | 0.113 | -0.225 | 0.475 \n",
    "      **LSTM**     | 0.23 | 0.119 |  0.229 |  0.518"
   ]
  },
  {
   "cell_type": "markdown",
   "metadata": {},
   "source": [
    "<a id='concl'></a> \n",
    "## 4. Conclusions [to top](#top)\n",
    "\n",
    "Our investigation of London Crime data led to interesting discoveries. Looking at how the number of cimes varies over the year between 2008 and 2016 we found that the trend is costant but for a suspicios peak in 2012. A further analysis showed that the peak was due to a critical increase in Theft and Handling felonies. We thoght that the presence of the Olympic games gathered a lot of tourists, that is a category often victim of such type of crimes.\n",
    "\n",
    "Instead, looking at how the number of crimes varies over the month of a year we noticed that the city tends to be safer on February and more dangerous on March, but apart from those small fluctations the trend is quite regular.\n",
    "\n",
    "Another important discovery is that awithin a year the different types of crimes mantain the same proportions: the more frequent are always theft, violence and criminal damages. Among these most frequent crimes, the Violence-related ones are the most concerning, critically increasing, doubling in the last three years. On the contrary Drugs crimes are suffering an almost linear descent during the past years, maybe due to the installation of new [survelliance cameras](http://google.com) all over the city. unfortunately the location data of this cameras is very difficult to find because those data often belong to private property or shops. \n",
    "\n",
    "Furthermore we observed interesting strong correlation between the number of monuments in a borough and the number of theft felonies. This could be explained by the greater number of tourist near the city attractions that can be an incentive for pickpockets. Nevertheless the strongest correlations have been observed among the different type of crimes both at borough and LSOA level. This made us think that in the captial there's some *crime locality*, in the sense that the different type of crimes tend to behave similarly (grow and decresase in the same way) within a specific zone.\n",
    "\n",
    "This supposition was further confirmed by chloropleth maps where, whatever the crime category, LSOA with high values of crimes are mostly near the upper bank of the Thames and the city centre, surrounded by LSOA with low values of crime; and this situation repeats over the years. \n",
    "\n",
    "A clustering analysis over the values of crime in the LSOAs allowed us both to separate zones of London according to their dangerousness and to spot the most dangerous ones.\n",
    "\n",
    "Combining all those results with the distribution analysis of the crime value over the LSOAs\n",
    "![powerlaw](imgs/ncrimelsoa.png)\n",
    "\n",
    "we have been able to understand that the high-crime-risk zones are rare and isolated, in fact the plot above depicts a power-law situation, so we'll have a lot of LSOA with low crime values and a few very dangerous.\n",
    "\n",
    "The final output of our analysis is a couple of models: one that predicts in which class of danger will be a borough in the next month, the other that predicts the number of crimes that will happen in an LSOA in the next month.\n",
    "\n",
    "A possible usage scenario is one in which the range predictor is used in order to have a general idea of the class of risk of each borough. Once we found the most dangerous one we can use the LSOA regressor to have a preciser idea of what will happen and how to deploy the aviable resources in a smart way, given taht high risk zones are rare and isolated."
   ]
  }
 ],
 "metadata": {
  "kernelspec": {
   "display_name": "Python 3",
   "language": "python",
   "name": "python3"
  },
  "language_info": {
   "codemirror_mode": {
    "name": "ipython",
    "version": 3
   },
   "file_extension": ".py",
   "mimetype": "text/x-python",
   "name": "python",
   "nbconvert_exporter": "python",
   "pygments_lexer": "ipython3",
   "version": "3.6.7"
  }
 },
 "nbformat": 4,
 "nbformat_minor": 2
}
